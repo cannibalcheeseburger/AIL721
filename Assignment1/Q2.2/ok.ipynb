{
 "cells": [
  {
   "cell_type": "code",
   "execution_count": 1,
   "metadata": {},
   "outputs": [],
   "source": [
    "import pandas as pd\n",
    "import argparse\n",
    "import torch\n",
    "from torch.utils.data import DataLoader\n",
    "import torch.nn as nn"
   ]
  },
  {
   "cell_type": "code",
   "execution_count": 2,
   "metadata": {},
   "outputs": [],
   "source": [
    "import torch\n",
    "from torch.utils.data import Dataset\n",
    "\n",
    "class WineDataset(Dataset):\n",
    "    def __init__(self, csv_data):\n",
    "        X = csv_data.copy()\n",
    "        y = torch.from_numpy(X['quality'].values)\n",
    "        unique_categories = list(X['variety'].unique())  \n",
    "        category_to_index = {var: idx for idx, var in enumerate(unique_categories)}\n",
    "        X['variety'] = X['variety'].map(category_to_index)\n",
    "        X = torch.from_numpy(X.drop(labels='quality',axis = 1).values)\n",
    "        self.data = X\n",
    "        self.labels = y.long()\n",
    "    def __len__(self):\n",
    "        return len(self.data)\n",
    "\n",
    "    def __getitem__(self, idx):\n",
    "        return self.data[idx], self.labels[idx]"
   ]
  },
  {
   "cell_type": "code",
   "execution_count": 3,
   "metadata": {},
   "outputs": [],
   "source": [
    "class WineModel(nn.Module):\n",
    "    def __init__(self,):\n",
    "        super().__init__()\n",
    "        self.model = nn.Sequential(\n",
    "            nn.Linear(12,32),\n",
    "            nn.ReLU(),\n",
    "            nn.Linear(32,16),\n",
    "            nn.ReLU(),\n",
    "            nn.Linear(16,11)\n",
    "        )\n",
    "    \n",
    "    def forward(self,X):\n",
    "        return self.model(X)"
   ]
  },
  {
   "cell_type": "code",
   "execution_count": 12,
   "metadata": {},
   "outputs": [
    {
     "name": "stdout",
     "output_type": "stream",
     "text": [
      "Epoch: 1 , Loss: 1.687530109407704, val_loss: 1.4070742919234214\n",
      "Epoch: 2 , Loss: 1.3216203394724162, val_loss: 1.3507952856378396\n",
      "Epoch: 3 , Loss: 1.2746722514610145, val_loss: 1.2854394134502014\n",
      "Epoch: 4 , Loss: 1.2563256127789306, val_loss: 1.2723938940897366\n",
      "Epoch: 5 , Loss: 1.247173160336632, val_loss: 1.2646237468531887\n",
      "Epoch: 6 , Loss: 1.2377102121046775, val_loss: 1.2635308199459199\n",
      "Epoch: 7 , Loss: 1.225094853683555, val_loss: 1.2772206470236425\n",
      "Epoch: 8 , Loss: 1.2150423151868968, val_loss: 1.2490756853899283\n",
      "Epoch: 9 , Loss: 1.214642667837323, val_loss: 1.227043111667215\n",
      "Epoch: 10 , Loss: 1.1921230152435471, val_loss: 1.2224040251831707\n",
      "Epoch: 11 , Loss: 1.183785962420959, val_loss: 1.2298168836805579\n",
      "Epoch: 12 , Loss: 1.175556719505892, val_loss: 1.203963763562605\n",
      "Epoch: 13 , Loss: 1.1691758147393692, val_loss: 1.1918389916393848\n",
      "Epoch: 14 , Loss: 1.1665412658403302, val_loss: 1.184322158669523\n",
      "Epoch: 15 , Loss: 1.1576729944191115, val_loss: 1.1715081262281095\n",
      "Epoch: 16 , Loss: 1.1599758324535974, val_loss: 1.1767171650737658\n",
      "Epoch: 17 , Loss: 1.148261741127775, val_loss: 1.1584143159145952\n",
      "Epoch: 18 , Loss: 1.1428595379405622, val_loss: 1.176096593344856\n",
      "Epoch: 19 , Loss: 1.1371155192477418, val_loss: 1.1467686155328836\n",
      "Epoch: 20 , Loss: 1.1461471501945075, val_loss: 1.2625425194582964\n",
      "Epoch: 21 , Loss: 1.1268825081888167, val_loss: 1.1574660197546482\n",
      "Epoch: 22 , Loss: 1.1289191927805255, val_loss: 1.1922450211641762\n",
      "Epoch: 23 , Loss: 1.125256572810311, val_loss: 1.1456387758136206\n",
      "Epoch: 24 , Loss: 1.1279859257919171, val_loss: 1.2410333371025946\n",
      "Epoch: 25 , Loss: 1.1259157288310961, val_loss: 1.1489061427126381\n",
      "Epoch: 26 , Loss: 1.1157283097835382, val_loss: 1.1268863761634687\n",
      "Epoch: 27 , Loss: 1.112359322255068, val_loss: 1.1300787169946065\n",
      "Epoch: 28 , Loss: 1.1177984629749675, val_loss: 1.1477574033625884\n",
      "Epoch: 29 , Loss: 1.106824214827347, val_loss: 1.1249708253922446\n",
      "Epoch: 30 , Loss: 1.1151227401175985, val_loss: 1.1414580541365738\n",
      "Epoch: 31 , Loss: 1.113166559092323, val_loss: 1.1313738078364275\n",
      "Epoch: 32 , Loss: 1.1056059033628063, val_loss: 1.1176305568846931\n",
      "Epoch: 33 , Loss: 1.1063879596201127, val_loss: 1.1148657807085347\n",
      "Epoch: 34 , Loss: 1.1028399646563203, val_loss: 1.1094379564268662\n",
      "Epoch: 35 , Loss: 1.0987087281747905, val_loss: 1.1193324877173312\n",
      "Epoch: 36 , Loss: 1.0924173070116987, val_loss: 1.1366732492698117\n",
      "Epoch: 37 , Loss: 1.0952497989771564, val_loss: 1.1054586295200644\n",
      "Epoch: 38 , Loss: 1.090116259699943, val_loss: 1.1032180719223739\n",
      "Epoch: 39 , Loss: 1.095073031901062, val_loss: 1.1008926373487804\n",
      "Epoch: 40 , Loss: 1.0966056254352106, val_loss: 1.1608507327525264\n",
      "Epoch: 41 , Loss: 1.0883808753439859, val_loss: 1.1157182716990277\n",
      "Epoch: 42 , Loss: 1.0926727022820766, val_loss: 1.1007370928593623\n",
      "Epoch: 43 , Loss: 1.0906036377235622, val_loss: 1.122055914689506\n",
      "Epoch: 44 , Loss: 1.08948410200023, val_loss: 1.126874241880047\n",
      "Epoch: 45 , Loss: 1.087779020502954, val_loss: 1.1047469170503499\n",
      "Epoch: 46 , Loss: 1.0897203918439602, val_loss: 1.106510218465971\n",
      "Epoch: 47 , Loss: 1.0879986879021764, val_loss: 1.105721416369262\n",
      "Epoch: 48 , Loss: 1.0868618219958035, val_loss: 1.1231340220798038\n",
      "Epoch: 49 , Loss: 1.0841526390191358, val_loss: 1.1237013847039767\n",
      "Epoch: 50 , Loss: 1.078079065472137, val_loss: 1.117581674665702\n",
      "Epoch: 51 , Loss: 1.0827334497401757, val_loss: 1.0990234500087654\n",
      "Epoch: 52 , Loss: 1.0804785909235468, val_loss: 1.11912916843368\n",
      "Epoch: 53 , Loss: 1.081664067720989, val_loss: 1.1143009642495647\n",
      "Epoch: 54 , Loss: 1.0766910347558898, val_loss: 1.1371242702425206\n",
      "Epoch: 55 , Loss: 1.0801350795688187, val_loss: 1.0993426664980823\n",
      "Epoch: 56 , Loss: 1.0720533682010058, val_loss: 1.1148898150812652\n",
      "Epoch: 57 , Loss: 1.0816527195547299, val_loss: 1.1449632630478916\n",
      "Epoch: 58 , Loss: 1.0748923081380748, val_loss: 1.0988985224744392\n",
      "Epoch: 59 , Loss: 1.0745883188725593, val_loss: 1.1138404719060622\n",
      "Epoch: 60 , Loss: 1.080684514999869, val_loss: 1.1335038081597542\n",
      "Epoch: 61 , Loss: 1.0777390311345918, val_loss: 1.1497194865396834\n",
      "Epoch: 62 , Loss: 1.07295305793576, val_loss: 1.1063558453029259\n",
      "Epoch: 63 , Loss: 1.0842698245118707, val_loss: 1.1136487525128287\n",
      "Epoch: 64 , Loss: 1.068909740260401, val_loss: 1.214378033294797\n",
      "Epoch: 65 , Loss: 1.0937529091560472, val_loss: 1.1143223518392236\n",
      "Epoch: 66 , Loss: 1.078920298017656, val_loss: 1.1034700121835113\n",
      "Epoch: 67 , Loss: 1.0709378423056661, val_loss: 1.1115247949104488\n",
      "Epoch: 68 , Loss: 1.0679220683432908, val_loss: 1.130306169453184\n",
      "Epoch: 69 , Loss: 1.077213292541964, val_loss: 1.117664325075724\n",
      "Epoch: 70 , Loss: 1.0722941831843285, val_loss: 1.1217971881935869\n",
      "Epoch: 71 , Loss: 1.0667002572347455, val_loss: 1.102024574343952\n",
      "Epoch: 72 , Loss: 1.0653137107730908, val_loss: 1.1305714982555055\n",
      "Epoch: 73 , Loss: 1.0689780522467163, val_loss: 1.1227166289093287\n",
      "Epoch: 74 , Loss: 1.070686341336188, val_loss: 1.1205042222545831\n",
      "Epoch: 75 , Loss: 1.0667528524617118, val_loss: 1.0949580847012754\n",
      "Epoch: 76 , Loss: 1.063910468478638, val_loss: 1.1709990373514272\n",
      "Epoch: 77 , Loss: 1.0670604688632548, val_loss: 1.1318221173467076\n",
      "Epoch: 78 , Loss: 1.0639541062168043, val_loss: 1.1168454191906927\n",
      "Epoch: 79 , Loss: 1.061613758031669, val_loss: 1.115806575293488\n",
      "Epoch: 80 , Loss: 1.0669479363729413, val_loss: 1.1119207113242084\n",
      "Epoch: 81 , Loss: 1.0659431639286752, val_loss: 1.1288993751112855\n",
      "Epoch: 82 , Loss: 1.0592374178720916, val_loss: 1.139475145183761\n",
      "Epoch: 83 , Loss: 1.0688372644988564, val_loss: 1.1288814052137683\n",
      "Epoch: 84 , Loss: 1.0611081582676176, val_loss: 1.1261995969701675\n",
      "Epoch: 85 , Loss: 1.0594941741976012, val_loss: 1.1361385449475032\n",
      "Epoch: 86 , Loss: 1.0744950965019096, val_loss: 1.105040119737503\n",
      "Epoch: 87 , Loss: 1.0623291153359482, val_loss: 1.1337431859857414\n",
      "Epoch: 88 , Loss: 1.0648774077684933, val_loss: 1.107209104103703\n",
      "Epoch: 89 , Loss: 1.0630522633061599, val_loss: 1.1423543412081645\n",
      "Epoch: 90 , Loss: 1.0604112624986435, val_loss: 1.1063928095166804\n",
      "Epoch: 91 , Loss: 1.0662445985614695, val_loss: 1.1254287133237484\n",
      "Epoch: 92 , Loss: 1.0545945766604539, val_loss: 1.1266452554288626\n",
      "Epoch: 93 , Loss: 1.0638811063234355, val_loss: 1.1289375628733835\n",
      "Epoch: 94 , Loss: 1.070311138059813, val_loss: 1.1349779498447055\n",
      "Epoch: 95 , Loss: 1.0545905520277872, val_loss: 1.162780446556307\n",
      "Epoch: 96 , Loss: 1.0633627682908071, val_loss: 1.1187010701951954\n",
      "Epoch: 97 , Loss: 1.0588926173322286, val_loss: 1.1133247246256368\n",
      "Epoch: 98 , Loss: 1.0598481851583041, val_loss: 1.129991964407686\n",
      "Epoch: 99 , Loss: 1.056174959697301, val_loss: 1.1335526627096133\n",
      "Epoch: 100 , Loss: 1.0578319251654276, val_loss: 1.16759709512659\n"
     ]
    }
   ],
   "source": [
    "import pandas as pd\n",
    "import argparse\n",
    "import torch\n",
    "from torch.utils.data import DataLoader\n",
    "\n",
    "\n",
    "\n",
    "#if __name__ == '__main__':\n",
    "#    parser = argparse.ArgumentParser()\n",
    "#    parser.add_argument('--n_epochs')\n",
    "#    parser.add_argument('--gpu', type=int, default=0, help='GPU index.')\n",
    "#    args = parser.parse_args()\n",
    "\n",
    "model = WineModel().double()\n",
    "\n",
    "lr = 0.001\n",
    "n_epochs = 100\n",
    "train_csv_path = \"./Train.csv\"\n",
    "loss_function = nn.CrossEntropyLoss()\n",
    "optimizer = torch.optim.Adam(model.parameters(),lr = lr)\n",
    "\n",
    "csv_data = pd.read_csv(train_csv_path)\n",
    "mid = round(len(csv_data)*0.2)\n",
    "val_dataset = WineDataset(csv_data[:mid])\n",
    "train_dataset  = WineDataset(csv_data[mid:])\n",
    "train_loader = DataLoader(train_dataset, batch_size = 32, shuffle=True)\n",
    "val_loader = DataLoader(val_dataset,batch_size=32,shuffle=False)\n",
    "\n",
    "for epoch in range(n_epochs):\n",
    "    train_loss = 0\n",
    "    val_loss = 0\n",
    "    for batch_data , batch_labels in train_loader:\n",
    "        outputs = model(batch_data)\n",
    "        loss = loss_function(outputs,batch_labels)\n",
    "        optimizer.zero_grad()\n",
    "        loss.backward()\n",
    "        optimizer.step()\n",
    "        train_loss+=loss.item()\n",
    "    \n",
    "    with torch.no_grad():\n",
    "        for batch_data, batch_labels in val_loader:\n",
    "            outputs = model(batch_data)\n",
    "            loss  = loss_function(outputs,batch_labels)\n",
    "            val_loss+=loss.item()\n",
    "\n",
    "\n",
    "    print(f'Epoch: {epoch + 1} , Loss: {train_loss/len(train_loader)}, val_loss: {val_loss/len(val_loader)}')\n",
    "\n",
    "\n",
    "model_path = \"./model_weights.pth\"\n",
    "torch.save(model.state_dict(), model_path)"
   ]
  },
  {
   "cell_type": "code",
   "execution_count": 16,
   "metadata": {},
   "outputs": [
    {
     "name": "stdout",
     "output_type": "stream",
     "text": [
      "Class Distribution: Counter({6: 1596, 5: 1194, 7: 597, 4: 117, 8: 110, 3: 19, 9: 5})\n"
     ]
    }
   ],
   "source": [
    "from collections import Counter\n",
    "y =train_dataset.labels\n",
    "# Assuming `targets` is a list or tensor of class labels\n",
    "class_counts = Counter(y.tolist())\n",
    "print(\"Class Distribution:\", class_counts)"
   ]
  },
  {
   "cell_type": "code",
   "execution_count": 5,
   "metadata": {},
   "outputs": [
    {
     "data": {
      "text/plain": [
       "tensor(6)"
      ]
     },
     "execution_count": 5,
     "metadata": {},
     "output_type": "execute_result"
    }
   ],
   "source": [
    "train_dataset.labels[1]"
   ]
  },
  {
   "cell_type": "code",
   "execution_count": 15,
   "metadata": {},
   "outputs": [
    {
     "data": {
      "text/plain": [
       "tensor(6)"
      ]
     },
     "execution_count": 15,
     "metadata": {},
     "output_type": "execute_result"
    }
   ],
   "source": [
    "train_dataset.labels[1]"
   ]
  },
  {
   "cell_type": "code",
   "execution_count": null,
   "metadata": {},
   "outputs": [],
   "source": []
  }
 ],
 "metadata": {
  "kernelspec": {
   "display_name": "ail721",
   "language": "python",
   "name": "python3"
  },
  "language_info": {
   "codemirror_mode": {
    "name": "ipython",
    "version": 3
   },
   "file_extension": ".py",
   "mimetype": "text/x-python",
   "name": "python",
   "nbconvert_exporter": "python",
   "pygments_lexer": "ipython3",
   "version": "3.10.16"
  }
 },
 "nbformat": 4,
 "nbformat_minor": 2
}
