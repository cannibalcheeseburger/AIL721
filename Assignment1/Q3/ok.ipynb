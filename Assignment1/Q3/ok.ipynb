{
 "cells": [
  {
   "cell_type": "code",
   "execution_count": 1,
   "metadata": {},
   "outputs": [],
   "source": [
    "import torch\n",
    "import torch.nn as nn\n",
    "from torch.utils.data import DataLoader, Dataset,random_split\n",
    "import pickle\n",
    "import torch.optim as optim\n",
    "import matplotlib.pyplot as plt\n",
    "\n",
    "#Loading the training data\n",
    "with open('train.pkl', 'rb') as file:\n",
    "    train_data = pickle.load(file)\n",
    "device = torch.device(\"mps\" if torch.backends.mps.is_available() else \"cpu\")\n"
   ]
  },
  {
   "cell_type": "code",
   "execution_count": 2,
   "metadata": {},
   "outputs": [],
   "source": [
    "class MNISTDataset(Dataset):\n",
    "    def __init__(self, data,):\n",
    "        self.data = data\n",
    "\n",
    "    def __len__(self):\n",
    "            return len(self.data)\n",
    "\n",
    "    def __getitem__(self, idx):\n",
    "        image, label = self.data[idx]\n",
    "        \n",
    "        if self.transform:\n",
    "            image = self.transform(image)\n",
    "        \n",
    "        return image, label"
   ]
  },
  {
   "cell_type": "code",
   "execution_count": 3,
   "metadata": {},
   "outputs": [],
   "source": [
    "train_dataset = MNISTDataset(train_data)\n",
    "train_size = int(0.8 * len(train_dataset))\n",
    "val_size = len(train_dataset) - train_size\n",
    "\n",
    "# Use random_split to divide the dataset\n",
    "train_dataset, val_dataset = random_split(train_dataset, [train_size, val_size])\n"
   ]
  },
  {
   "cell_type": "code",
   "execution_count": 4,
   "metadata": {},
   "outputs": [],
   "source": [
    "train_dataloader = DataLoader(train_dataset,batch_size=64,shuffle=True)\n",
    "val_dataloader = DataLoader(val_dataset,batch_size=64,shuffle=False)"
   ]
  },
  {
   "cell_type": "code",
   "execution_count": 5,
   "metadata": {},
   "outputs": [],
   "source": [
    "for images, labels in train_dataloader:\n",
    "    # Access a single image and label from the batch\n",
    "    single_image = images[0]  # Get the first image in the batch\n",
    "    single_label = labels[0]  # Get the first label in the batch\n",
    "    break  # Stop after getting one batch\n"
   ]
  },
  {
   "cell_type": "code",
   "execution_count": 6,
   "metadata": {},
   "outputs": [
    {
     "data": {
      "text/plain": [
       "<matplotlib.image.AxesImage at 0x1750800d0>"
      ]
     },
     "execution_count": 6,
     "metadata": {},
     "output_type": "execute_result"
    },
    {
     "data": {
      "image/png": "[encoded data removed]",
      "text/plain": [
       "<Figure size 640x480 with 1 Axes>"
      ]
     },
     "metadata": {},
     "output_type": "display_data"
    }
   ],
   "source": [
    "plt.imshow(single_image.squeeze())"
   ]
  },
  {
   "cell_type": "code",
   "execution_count": 7,
   "metadata": {},
   "outputs": [],
   "source": [
    "class MLP(nn.Module):\n",
    "    def __init__(self,input_size=28*28,hidden_units=64,output_size=10):\n",
    "        super().__init__()\n",
    "        self.model = nn.Sequential(\n",
    "            nn.Linear(input_size,hidden_units),\n",
    "            nn.ReLU(),\n",
    "            nn.Linear(hidden_units,hidden_units),\n",
    "            nn.ReLU(),\n",
    "            nn.Linear(hidden_units,output_size),\n",
    "        )\n",
    "    \n",
    "    def forward(self,x):\n",
    "        x = x.view(x.size(0), -1)  \n",
    "        return self.model(x)"
   ]
  },
  {
   "cell_type": "code",
   "execution_count": 8,
   "metadata": {},
   "outputs": [],
   "source": [
    "input_size=28*28\n",
    "hidden_units=64\n",
    "output_size=10\n",
    "model = MLP().to(device)"
   ]
  },
  {
   "cell_type": "code",
   "execution_count": 9,
   "metadata": {},
   "outputs": [],
   "source": [
    "optimizer = torch.optim.Adam(model.parameters(), lr=0.001, weight_decay=1e-5)\n",
    "loss_function = nn.CrossEntropyLoss()"
   ]
  },
  {
   "cell_type": "code",
   "execution_count": 10,
   "metadata": {},
   "outputs": [
    {
     "name": "stdout",
     "output_type": "stream",
     "text": [
      "Epoch [1/50], Loss: 0.3420, Accuracy: 90.03%\n",
      "Validation Loss: 0.2343, Validation Accuracy: 92.85% \n",
      "\n",
      "Epoch [2/50], Loss: 0.1561, Accuracy: 95.19%\n",
      "Validation Loss: 0.1709, Validation Accuracy: 95.08% \n",
      "\n",
      "Epoch [3/50], Loss: 0.1105, Accuracy: 96.57%\n",
      "Validation Loss: 0.1409, Validation Accuracy: 95.76% \n",
      "\n",
      "Epoch [4/50], Loss: 0.0829, Accuracy: 97.39%\n",
      "Validation Loss: 0.1186, Validation Accuracy: 96.60% \n",
      "\n",
      "Epoch [5/50], Loss: 0.0650, Accuracy: 97.92%\n",
      "Validation Loss: 0.1175, Validation Accuracy: 96.67% \n",
      "\n",
      "Epoch [6/50], Loss: 0.0534, Accuracy: 98.31%\n",
      "Validation Loss: 0.1099, Validation Accuracy: 96.95% \n",
      "\n",
      "Epoch [7/50], Loss: 0.0422, Accuracy: 98.66%\n",
      "Validation Loss: 0.1123, Validation Accuracy: 96.90% \n",
      "\n",
      "Epoch [8/50], Loss: 0.0371, Accuracy: 98.76%\n",
      "Validation Loss: 0.1209, Validation Accuracy: 96.95% \n",
      "\n",
      "Epoch [9/50], Loss: 0.0304, Accuracy: 99.00%\n",
      "Validation Loss: 0.1168, Validation Accuracy: 96.75% \n",
      "\n",
      "Epoch [10/50], Loss: 0.0268, Accuracy: 99.13%\n",
      "Validation Loss: 0.1268, Validation Accuracy: 96.94% \n",
      "\n",
      "Epoch [11/50], Loss: 0.0216, Accuracy: 99.23%\n",
      "Validation Loss: 0.1413, Validation Accuracy: 96.74% \n",
      "\n",
      "Epoch [12/50], Loss: 0.0213, Accuracy: 99.26%\n",
      "Validation Loss: 0.1466, Validation Accuracy: 96.66% \n",
      "\n",
      "Epoch [13/50], Loss: 0.0191, Accuracy: 99.35%\n",
      "Validation Loss: 0.1365, Validation Accuracy: 97.03% \n",
      "\n",
      "Epoch [14/50], Loss: 0.0196, Accuracy: 99.31%\n",
      "Validation Loss: 0.1416, Validation Accuracy: 97.15% \n",
      "\n",
      "Epoch [15/50], Loss: 0.0146, Accuracy: 99.50%\n",
      "Validation Loss: 0.1716, Validation Accuracy: 96.67% \n",
      "\n",
      "Epoch [16/50], Loss: 0.0171, Accuracy: 99.44%\n",
      "Validation Loss: 0.1612, Validation Accuracy: 96.82% \n",
      "\n",
      "Epoch [17/50], Loss: 0.0120, Accuracy: 99.59%\n",
      "Validation Loss: 0.1581, Validation Accuracy: 97.03% \n",
      "\n",
      "Epoch [18/50], Loss: 0.0132, Accuracy: 99.54%\n",
      "Validation Loss: 0.1634, Validation Accuracy: 96.98% \n",
      "\n",
      "Epoch [19/50], Loss: 0.0134, Accuracy: 99.52%\n",
      "Validation Loss: 0.1671, Validation Accuracy: 97.00% \n",
      "\n",
      "Epoch [20/50], Loss: 0.0119, Accuracy: 99.56%\n",
      "Validation Loss: 0.1876, Validation Accuracy: 96.89% \n",
      "\n",
      "Epoch [21/50], Loss: 0.0124, Accuracy: 99.58%\n",
      "Validation Loss: 0.1625, Validation Accuracy: 97.10% \n",
      "\n",
      "Epoch [22/50], Loss: 0.0144, Accuracy: 99.54%\n",
      "Validation Loss: 0.1873, Validation Accuracy: 96.88% \n",
      "\n",
      "Epoch [23/50], Loss: 0.0134, Accuracy: 99.51%\n",
      "Validation Loss: 0.1791, Validation Accuracy: 96.89% \n",
      "\n",
      "Epoch [24/50], Loss: 0.0080, Accuracy: 99.73%\n",
      "Validation Loss: 0.1617, Validation Accuracy: 97.20% \n",
      "\n",
      "Epoch [25/50], Loss: 0.0118, Accuracy: 99.61%\n",
      "Validation Loss: 0.1983, Validation Accuracy: 96.70% \n",
      "\n",
      "Epoch [26/50], Loss: 0.0127, Accuracy: 99.59%\n",
      "Validation Loss: 0.2038, Validation Accuracy: 96.90% \n",
      "\n",
      "Epoch [27/50], Loss: 0.0101, Accuracy: 99.65%\n",
      "Validation Loss: 0.1905, Validation Accuracy: 96.99% \n",
      "\n",
      "Epoch [28/50], Loss: 0.0142, Accuracy: 99.55%\n",
      "Validation Loss: 0.1881, Validation Accuracy: 97.17% \n",
      "\n",
      "Epoch [29/50], Loss: 0.0094, Accuracy: 99.67%\n",
      "Validation Loss: 0.2014, Validation Accuracy: 96.98% \n",
      "\n"
     ]
    },
    {
     "ename": "KeyboardInterrupt",
     "evalue": "",
     "output_type": "error",
     "traceback": [
      "\u001b[0;31m---------------------------------------------------------------------------\u001b[0m",
      "\u001b[0;31mKeyboardInterrupt\u001b[0m                         Traceback (most recent call last)",
      "Cell \u001b[0;32mIn[10], line 19\u001b[0m\n\u001b[1;32m     15\u001b[0m outputs \u001b[38;5;241m=\u001b[39m model(images)\n\u001b[1;32m     17\u001b[0m loss \u001b[38;5;241m=\u001b[39m loss_function(outputs, labels)\n\u001b[0;32m---> 19\u001b[0m \u001b[43mloss\u001b[49m\u001b[38;5;241;43m.\u001b[39;49m\u001b[43mbackward\u001b[49m\u001b[43m(\u001b[49m\u001b[43m)\u001b[49m\n\u001b[1;32m     20\u001b[0m optimizer\u001b[38;5;241m.\u001b[39mstep()\n\u001b[1;32m     22\u001b[0m running_loss \u001b[38;5;241m+\u001b[39m\u001b[38;5;241m=\u001b[39m loss\u001b[38;5;241m.\u001b[39mitem()\n",
      "File \u001b[0;32m~/miniconda/envs/ail721/lib/python3.10/site-packages/torch/_tensor.py:522\u001b[0m, in \u001b[0;36mTensor.backward\u001b[0;34m(self, gradient, retain_graph, create_graph, inputs)\u001b[0m\n\u001b[1;32m    512\u001b[0m \u001b[38;5;28;01mif\u001b[39;00m has_torch_function_unary(\u001b[38;5;28mself\u001b[39m):\n\u001b[1;32m    513\u001b[0m     \u001b[38;5;28;01mreturn\u001b[39;00m handle_torch_function(\n\u001b[1;32m    514\u001b[0m         Tensor\u001b[38;5;241m.\u001b[39mbackward,\n\u001b[1;32m    515\u001b[0m         (\u001b[38;5;28mself\u001b[39m,),\n\u001b[0;32m   (...)\u001b[0m\n\u001b[1;32m    520\u001b[0m         inputs\u001b[38;5;241m=\u001b[39minputs,\n\u001b[1;32m    521\u001b[0m     )\n\u001b[0;32m--> 522\u001b[0m \u001b[43mtorch\u001b[49m\u001b[38;5;241;43m.\u001b[39;49m\u001b[43mautograd\u001b[49m\u001b[38;5;241;43m.\u001b[39;49m\u001b[43mbackward\u001b[49m\u001b[43m(\u001b[49m\n\u001b[1;32m    523\u001b[0m \u001b[43m    \u001b[49m\u001b[38;5;28;43mself\u001b[39;49m\u001b[43m,\u001b[49m\u001b[43m \u001b[49m\u001b[43mgradient\u001b[49m\u001b[43m,\u001b[49m\u001b[43m \u001b[49m\u001b[43mretain_graph\u001b[49m\u001b[43m,\u001b[49m\u001b[43m \u001b[49m\u001b[43mcreate_graph\u001b[49m\u001b[43m,\u001b[49m\u001b[43m \u001b[49m\u001b[43minputs\u001b[49m\u001b[38;5;241;43m=\u001b[39;49m\u001b[43minputs\u001b[49m\n\u001b[1;32m    524\u001b[0m \u001b[43m\u001b[49m\u001b[43m)\u001b[49m\n",
      "File \u001b[0;32m~/miniconda/envs/ail721/lib/python3.10/site-packages/torch/autograd/__init__.py:266\u001b[0m, in \u001b[0;36mbackward\u001b[0;34m(tensors, grad_tensors, retain_graph, create_graph, grad_variables, inputs)\u001b[0m\n\u001b[1;32m    261\u001b[0m     retain_graph \u001b[38;5;241m=\u001b[39m create_graph\n\u001b[1;32m    263\u001b[0m \u001b[38;5;66;03m# The reason we repeat the same comment below is that\u001b[39;00m\n\u001b[1;32m    264\u001b[0m \u001b[38;5;66;03m# some Python versions print out the first line of a multi-line function\u001b[39;00m\n\u001b[1;32m    265\u001b[0m \u001b[38;5;66;03m# calls in the traceback and some print out the last line\u001b[39;00m\n\u001b[0;32m--> 266\u001b[0m \u001b[43mVariable\u001b[49m\u001b[38;5;241;43m.\u001b[39;49m\u001b[43m_execution_engine\u001b[49m\u001b[38;5;241;43m.\u001b[39;49m\u001b[43mrun_backward\u001b[49m\u001b[43m(\u001b[49m\u001b[43m  \u001b[49m\u001b[38;5;66;43;03m# Calls into the C++ engine to run the backward pass\u001b[39;49;00m\n\u001b[1;32m    267\u001b[0m \u001b[43m    \u001b[49m\u001b[43mtensors\u001b[49m\u001b[43m,\u001b[49m\n\u001b[1;32m    268\u001b[0m \u001b[43m    \u001b[49m\u001b[43mgrad_tensors_\u001b[49m\u001b[43m,\u001b[49m\n\u001b[1;32m    269\u001b[0m \u001b[43m    \u001b[49m\u001b[43mretain_graph\u001b[49m\u001b[43m,\u001b[49m\n\u001b[1;32m    270\u001b[0m \u001b[43m    \u001b[49m\u001b[43mcreate_graph\u001b[49m\u001b[43m,\u001b[49m\n\u001b[1;32m    271\u001b[0m \u001b[43m    \u001b[49m\u001b[43minputs\u001b[49m\u001b[43m,\u001b[49m\n\u001b[1;32m    272\u001b[0m \u001b[43m    \u001b[49m\u001b[43mallow_unreachable\u001b[49m\u001b[38;5;241;43m=\u001b[39;49m\u001b[38;5;28;43;01mTrue\u001b[39;49;00m\u001b[43m,\u001b[49m\n\u001b[1;32m    273\u001b[0m \u001b[43m    \u001b[49m\u001b[43maccumulate_grad\u001b[49m\u001b[38;5;241;43m=\u001b[39;49m\u001b[38;5;28;43;01mTrue\u001b[39;49;00m\u001b[43m,\u001b[49m\n\u001b[1;32m    274\u001b[0m \u001b[43m\u001b[49m\u001b[43m)\u001b[49m\n",
      "\u001b[0;31mKeyboardInterrupt\u001b[0m: "
     ]
    }
   ],
   "source": [
    "num_epochs = 50\n",
    "for epoch in range(num_epochs):\n",
    "    model.train()  # Set the model to training mode\n",
    "    running_loss = 0.0\n",
    "    correct = 0\n",
    "    total = 0\n",
    "    val_loss = 0.0\n",
    "    total_val = 0\n",
    "    correct_val =0\n",
    "    for images, labels in train_dataloader:\n",
    "        images, labels = images.to(device), labels.to(device)\n",
    "        \n",
    "        optimizer.zero_grad()\n",
    "        \n",
    "        outputs = model(images)\n",
    "        \n",
    "        loss = loss_function(outputs, labels)\n",
    "        \n",
    "        loss.backward()\n",
    "        optimizer.step()\n",
    "        \n",
    "        running_loss += loss.item()\n",
    "        _, predicted = torch.max(outputs, 1)\n",
    "        total += labels.size(0)\n",
    "        correct += (predicted == labels).sum().item()\n",
    "\n",
    "    with torch.no_grad():\n",
    "        for batch_data, batch_labels in val_dataloader:\n",
    "            batch_data, batch_labels = batch_data.to(device), batch_labels.to(device)\n",
    "            outputs = model(batch_data)\n",
    "            loss  = loss_function(outputs,batch_labels)\n",
    "            val_loss+=loss.item()\n",
    "            _, predicted = torch.max(outputs, 1)\n",
    "            total_val += batch_labels.size(0)\n",
    "            correct_val += (predicted == batch_labels).sum().item()\n",
    "\n",
    "    \n",
    "    train_loss = running_loss / len(train_dataloader)\n",
    "    val_loss = val_loss / len(val_dataloader)\n",
    "    train_accuracy = 100 * correct / total\n",
    "    val_accuracy = 100 * correct_val / total_val\n",
    "\n",
    "    print(f\"Epoch [{epoch+1}/{num_epochs}], Loss: {train_loss:.4f}, Accuracy: {train_accuracy:.2f}%\")\n",
    "    print(f\"Validation Loss: {val_loss:.4f}, Validation Accuracy: {val_accuracy:.2f}% \\n\")"
   ]
  },
  {
   "cell_type": "code",
   "execution_count": null,
   "metadata": {},
   "outputs": [],
   "source": []
  }
 ],
 "metadata": {
  "kernelspec": {
   "display_name": "ail721",
   "language": "python",
   "name": "python3"
  },
  "language_info": {
   "codemirror_mode": {
    "name": "ipython",
    "version": 3
   },
   "file_extension": ".py",
   "mimetype": "text/x-python",
   "name": "python",
   "nbconvert_exporter": "python",
   "pygments_lexer": "ipython3",
   "version": "3.10.16"
  }
 },
 "nbformat": 4,
 "nbformat_minor": 2
}
