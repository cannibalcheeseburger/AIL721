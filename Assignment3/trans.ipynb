{
 "cells": [
  {
   "cell_type": "code",
   "execution_count": 1,
   "metadata": {},
   "outputs": [],
   "source": [
    "import torch\n",
    "import torch.nn as nn\n",
    "import torch.optim as optim\n",
    "from torch.utils.data import Dataset, DataLoader\n",
    "import pandas as pd\n",
    "import numpy as np\n",
    "import re\n",
    "from collections import Counter\n",
    "from sklearn.metrics import f1_score\n",
    "import matplotlib.pyplot as plt\n",
    "from torch.nn import TransformerEncoder, TransformerEncoderLayer\n",
    "import matplotlib.pyplot as plt\n"
   ]
  },
  {
   "cell_type": "code",
   "execution_count": 2,
   "metadata": {},
   "outputs": [],
   "source": [
    "seed = 43\n",
    "torch.manual_seed(seed)\n",
    "device = torch.device(\"cuda\" if torch.cuda.is_available() else \"mps\" if torch.backends.mps.is_available() else \"cpu\")"
   ]
  },
  {
   "cell_type": "code",
   "execution_count": 3,
   "metadata": {},
   "outputs": [],
   "source": [
    "batch_size = 64"
   ]
  },
  {
   "cell_type": "code",
   "execution_count": 4,
   "metadata": {},
   "outputs": [],
   "source": [
    "def simple_tokenizer(text):\n",
    "    return re.findall(r'\\b\\w+\\b', str(text).lower())"
   ]
  },
  {
   "cell_type": "code",
   "execution_count": 5,
   "metadata": {},
   "outputs": [
    {
     "name": "stdout",
     "output_type": "stream",
     "text": [
      "Train samples: 1490, Test samples: 735\n"
     ]
    }
   ],
   "source": [
    "train_df = pd.read_csv(\"Datasets/TrainData.csv\")\n",
    "test_df = pd.read_csv(\"Datasets/TestLabels.csv\")\n",
    "\n",
    "train_df.dropna(subset=['Text', 'Category'], inplace=True)\n",
    "test_df.dropna(subset=['Text', 'Label - (business, tech, politics, sport, entertainment)'], inplace=True)\n",
    "\n",
    "print(f\"Train samples: {len(train_df)}, Test samples: {len(test_df)}\")\n",
    "\n",
    "train_texts = train_df['Text'].tolist()\n",
    "train_labels = train_df['Category'].tolist()\n",
    "test_texts = test_df['Text'].tolist()\n",
    "test_labels = test_df['Label - (business, tech, politics, sport, entertainment)'].tolist()"
   ]
  },
  {
   "cell_type": "code",
   "execution_count": 6,
   "metadata": {},
   "outputs": [],
   "source": [
    "train_tokenized = [simple_tokenizer(t) for t in train_texts]\n",
    "test_tokenized = [simple_tokenizer(t) for t in test_texts]"
   ]
  },
  {
   "cell_type": "code",
   "execution_count": 7,
   "metadata": {},
   "outputs": [],
   "source": [
    "lengths = [len(inner_array) for inner_array in train_tokenized]\n",
    "max_len = int(np.percentile(lengths, 90))"
   ]
  },
  {
   "cell_type": "code",
   "execution_count": 8,
   "metadata": {},
   "outputs": [],
   "source": [
    "class NewsDataset(Dataset):\n",
    "    def __init__(self, tokenized_text, labels, vocab=None, label2idx=None, max_len=300):\n",
    "        self.texts = tokenized_text\n",
    "        self.max_len = max_len\n",
    "        if vocab is None:\n",
    "            words = [word for text in self.texts for word in text]\n",
    "            word_freq = Counter(words)\n",
    "            self.vocab = {'<PAD>': 0, '<UNK>': 1}\n",
    "            for word in word_freq:\n",
    "                self.vocab[word] = len(self.vocab)\n",
    "        else:\n",
    "            self.vocab = vocab\n",
    "\n",
    "        self.texts = [self.encode(text) for text in self.texts]\n",
    "\n",
    "        if label2idx is None:\n",
    "            unique_labels = sorted(set(label for label in labels if pd.notna(label)))\n",
    "            self.label2idx = {label: i for i, label in enumerate(unique_labels)}\n",
    "        else:\n",
    "            self.label2idx = label2idx\n",
    "\n",
    "        self.labels = [self.label2idx[label] for label in labels if pd.notna(label)]\n",
    "\n",
    "    def encode(self, tokens):\n",
    "        encoded = [self.vocab.get(tok, self.vocab['<UNK>']) for tok in tokens]\n",
    "        return encoded[:self.max_len] + [0]*(self.max_len - len(encoded))\n",
    "\n",
    "    def __len__(self):\n",
    "        return len(self.texts)\n",
    "\n",
    "    def __getitem__(self, idx):\n",
    "        return torch.tensor(self.texts[idx]), torch.tensor(self.labels[idx])"
   ]
  },
  {
   "cell_type": "code",
   "execution_count": 9,
   "metadata": {},
   "outputs": [],
   "source": [
    "train_data = NewsDataset(train_tokenized, train_labels)\n",
    "test_data = NewsDataset(test_tokenized, test_labels, vocab=train_data.vocab, label2idx=train_data.label2idx)"
   ]
  },
  {
   "cell_type": "code",
   "execution_count": 10,
   "metadata": {},
   "outputs": [],
   "source": [
    "train_loader = DataLoader(train_data, batch_size=batch_size, shuffle=True)\n",
    "test_loader = DataLoader(test_data, batch_size=batch_size)"
   ]
  },
  {
   "cell_type": "code",
   "execution_count": 11,
   "metadata": {},
   "outputs": [],
   "source": [
    "class TextTransformer(nn.Module):\n",
    "    def __init__(self, vocab_size, embed_dim=256, num_classes=5,\n",
    "                 num_layers=4, num_heads=8, max_len=300, pos_embed=True):\n",
    "        super().__init__()\n",
    "        self.embed_dim = embed_dim\n",
    "        self.pos_embed_enabled = pos_embed\n",
    "        \n",
    "        # Embedding layers\n",
    "        self.word_embedding = nn.Embedding(vocab_size, embed_dim)\n",
    "        if pos_embed:\n",
    "            self.position_embedding = nn.Embedding(max_len, embed_dim)\n",
    "        \n",
    "        # Transformer encoder layer\n",
    "        encoder_layer = nn.TransformerEncoderLayer(\n",
    "            d_model=embed_dim,\n",
    "            nhead=num_heads,\n",
    "            dim_feedforward=512,\n",
    "            dropout=0.1,\n",
    "            activation=\"gelu\"\n",
    "        )\n",
    "        self.transformer_encoder = nn.TransformerEncoder(encoder_layer, num_layers=num_layers)\n",
    "        \n",
    "        # Classification layer\n",
    "        self.classifier = nn.Linear(embed_dim, num_classes)\n",
    "    \n",
    "    def forward(self, x):\n",
    "        positions = torch.arange(0, x.size(1), dtype=torch.long).unsqueeze(0).to(device)\n",
    "        \n",
    "        x_embed = self.word_embedding(x)\n",
    "        if self.pos_embed_enabled:\n",
    "            x_embed += self.position_embedding(positions)\n",
    "        \n",
    "        x_transformed = self.transformer_encoder(x_embed)\n",
    "        x_pooled = x_transformed.mean(dim=1)  # Mean pooling across sequence length\n",
    "        \n",
    "        return self.classifier(x_pooled)\n",
    "\n"
   ]
  },
  {
   "cell_type": "code",
   "execution_count": 12,
   "metadata": {},
   "outputs": [],
   "source": [
    "def evaluate_model(model, loader, criterion):\n",
    "    model.eval()\n",
    "    correct = 0\n",
    "    total = 0\n",
    "    total_loss = 0\n",
    "    all_preds ,all_labels = [] ,[]\n",
    "    with torch.no_grad():\n",
    "        for X_batch, y_batch in loader:\n",
    "            X_batch, y_batch = X_batch.to(device), y_batch.to(device)\n",
    "            outputs = model(X_batch)\n",
    "            loss = criterion(outputs, y_batch)\n",
    "            total_loss += loss.item()\n",
    "            _, predicted = torch.max(outputs, 1)\n",
    "            all_preds.extend(predicted.cpu().tolist())\n",
    "            all_labels.extend(y_batch.cpu().tolist())\n",
    "\n",
    "            total += y_batch.size(0)\n",
    "            correct += (predicted == y_batch).sum().item()\n",
    "\n",
    "    avg_loss = total_loss / len(test_loader)\n",
    "    accuracy = 100 * correct / total\n",
    "    f1 = f1_score(all_labels,all_preds,average='micro')\n",
    "    return avg_loss, accuracy,f1"
   ]
  },
  {
   "cell_type": "code",
   "execution_count": 13,
   "metadata": {},
   "outputs": [],
   "source": [
    "def train_model(model, loader, criterion, optimizer):\n",
    "    model.train()\n",
    "    total_loss = 0\n",
    "    correct_train = 0\n",
    "    total_train = 0\n",
    "    for texts, labels in loader:\n",
    "        texts, labels = texts.to(device), labels.to(device)\n",
    "        optimizer.zero_grad()\n",
    "        outputs = model(texts)\n",
    "        loss = criterion(outputs, labels)\n",
    "        loss.backward()\n",
    "        optimizer.step()\n",
    "        total_loss += loss.item()\n",
    "\n",
    "        _, predicted = torch.max(outputs, 1)\n",
    "        total_train += labels.size(0)\n",
    "        correct_train += (predicted == labels).sum().item()\n",
    "    avg_train_loss = total_loss / len(train_loader)\n",
    "    train_accuracy = 100 * correct_train / total_train\n",
    "    return avg_train_loss , train_accuracy"
   ]
  },
  {
   "cell_type": "code",
   "execution_count": 14,
   "metadata": {},
   "outputs": [],
   "source": [
    "EPOCHS = 50\n",
    "lr = 0.0003\n",
    "weight_decay = 1e-3"
   ]
  },
  {
   "cell_type": "code",
   "execution_count": 15,
   "metadata": {},
   "outputs": [
    {
     "name": "stderr",
     "output_type": "stream",
     "text": [
      "c:\\Users\\kashp\\miniconda3\\envs\\dla3\\lib\\site-packages\\torch\\nn\\modules\\transformer.py:385: UserWarning: enable_nested_tensor is True, but self.use_nested_tensor is False because encoder_layer.self_attn.batch_first was not True(use batch_first for better inference performance)\n",
      "  warnings.warn(\n"
     ]
    }
   ],
   "source": [
    "model_params = {\n",
    "    \"vocab_size\": len(train_data.vocab),\n",
    "    \"embed_dim\": 512,\n",
    "    \"num_classes\": len(train_data.label2idx),\n",
    "    \"num_layers\": 1,\n",
    "    \"num_heads\": 8,\n",
    "    \"max_len\": max_len,\n",
    "    \"pos_embed\": True\n",
    "}\n",
    "\n",
    "model = TextTransformer(**model_params).to(device)\n"
   ]
  },
  {
   "cell_type": "code",
   "execution_count": 16,
   "metadata": {},
   "outputs": [],
   "source": [
    "criterion = nn.CrossEntropyLoss()\n",
    "optimizer = optim.AdamW(model.parameters(), lr=0.0002)\n",
    "\n"
   ]
  },
  {
   "cell_type": "code",
   "execution_count": 22,
   "metadata": {},
   "outputs": [
    {
     "name": "stdout",
     "output_type": "stream",
     "text": [
      "\n",
      "==================================================\n",
      "Analyzing Encoder Blocks...\n",
      "\n",
      "=== Training with 2 encoder blocks ===\n"
     ]
    },
    {
     "name": "stderr",
     "output_type": "stream",
     "text": [
      "c:\\Users\\kashp\\miniconda3\\envs\\dla3\\lib\\site-packages\\torch\\nn\\modules\\transformer.py:385: UserWarning: enable_nested_tensor is True, but self.use_nested_tensor is False because encoder_layer.self_attn.batch_first was not True(use batch_first for better inference performance)\n",
      "  warnings.warn(\n"
     ]
    },
    {
     "name": "stdout",
     "output_type": "stream",
     "text": [
      "Epoch 1/50 | Train Loss: 1.5667 | Val F1: 0.2844\n",
      "Epoch 2/50 | Train Loss: 1.4945 | Val F1: 0.3633\n",
      "Epoch 3/50 | Train Loss: 1.3243 | Val F1: 0.4599\n",
      "Epoch 4/50 | Train Loss: 1.0738 | Val F1: 0.6993\n",
      "Epoch 5/50 | Train Loss: 0.8217 | Val F1: 0.7143\n",
      "Epoch 6/50 | Train Loss: 0.6669 | Val F1: 0.7252\n",
      "Epoch 7/50 | Train Loss: 0.5451 | Val F1: 0.8435\n",
      "Epoch 8/50 | Train Loss: 0.4401 | Val F1: 0.8095\n",
      "Epoch 9/50 | Train Loss: 0.3662 | Val F1: 0.8544\n",
      "Epoch 10/50 | Train Loss: 0.2934 | Val F1: 0.8503\n",
      "Epoch 11/50 | Train Loss: 0.2503 | Val F1: 0.8694\n",
      "Epoch 12/50 | Train Loss: 0.2134 | Val F1: 0.8558\n",
      "Epoch 13/50 | Train Loss: 0.1684 | Val F1: 0.8844\n",
      "Epoch 14/50 | Train Loss: 0.1354 | Val F1: 0.9102\n",
      "Epoch 15/50 | Train Loss: 0.1116 | Val F1: 0.9007\n",
      "Epoch 16/50 | Train Loss: 0.0956 | Val F1: 0.9061\n",
      "Epoch 17/50 | Train Loss: 0.0861 | Val F1: 0.9007\n",
      "Epoch 18/50 | Train Loss: 0.0750 | Val F1: 0.9075\n",
      "Epoch 19/50 | Train Loss: 0.0609 | Val F1: 0.8952\n",
      "Epoch 20/50 | Train Loss: 0.0524 | Val F1: 0.9143\n",
      "Epoch 21/50 | Train Loss: 0.0428 | Val F1: 0.9197\n",
      "Epoch 22/50 | Train Loss: 0.0396 | Val F1: 0.9252\n",
      "Epoch 23/50 | Train Loss: 0.0369 | Val F1: 0.9116\n",
      "Epoch 24/50 | Train Loss: 0.0330 | Val F1: 0.9265\n",
      "Epoch 25/50 | Train Loss: 0.0286 | Val F1: 0.9184\n",
      "Epoch 26/50 | Train Loss: 0.0259 | Val F1: 0.9170\n",
      "Epoch 27/50 | Train Loss: 0.0204 | Val F1: 0.9061\n",
      "Epoch 28/50 | Train Loss: 0.0212 | Val F1: 0.9252\n",
      "Epoch 29/50 | Train Loss: 0.0222 | Val F1: 0.9224\n",
      "Epoch 30/50 | Train Loss: 0.0180 | Val F1: 0.9252\n",
      "Epoch 31/50 | Train Loss: 0.0168 | Val F1: 0.9184\n",
      "Epoch 32/50 | Train Loss: 0.0151 | Val F1: 0.9170\n",
      "Epoch 33/50 | Train Loss: 0.0134 | Val F1: 0.9211\n",
      "Epoch 34/50 | Train Loss: 0.0124 | Val F1: 0.9156\n",
      "Epoch 35/50 | Train Loss: 0.0107 | Val F1: 0.9265\n",
      "Epoch 36/50 | Train Loss: 0.0096 | Val F1: 0.9238\n",
      "Epoch 37/50 | Train Loss: 0.0088 | Val F1: 0.9238\n",
      "Epoch 38/50 | Train Loss: 0.0106 | Val F1: 0.9197\n",
      "Epoch 39/50 | Train Loss: 0.0120 | Val F1: 0.9197\n",
      "\n",
      "=== Training with 4 encoder blocks ===\n"
     ]
    },
    {
     "name": "stderr",
     "output_type": "stream",
     "text": [
      "c:\\Users\\kashp\\miniconda3\\envs\\dla3\\lib\\site-packages\\torch\\nn\\modules\\transformer.py:385: UserWarning: enable_nested_tensor is True, but self.use_nested_tensor is False because encoder_layer.self_attn.batch_first was not True(use batch_first for better inference performance)\n",
      "  warnings.warn(\n"
     ]
    },
    {
     "name": "stdout",
     "output_type": "stream",
     "text": [
      "Epoch 1/50 | Train Loss: 1.5818 | Val F1: 0.2803\n",
      "Epoch 2/50 | Train Loss: 1.4821 | Val F1: 0.4367\n",
      "Epoch 3/50 | Train Loss: 1.3442 | Val F1: 0.4626\n",
      "Epoch 4/50 | Train Loss: 1.1034 | Val F1: 0.6803\n",
      "Epoch 5/50 | Train Loss: 0.9054 | Val F1: 0.7224\n",
      "Epoch 6/50 | Train Loss: 0.7078 | Val F1: 0.7946\n",
      "Epoch 7/50 | Train Loss: 0.5783 | Val F1: 0.8041\n",
      "Epoch 8/50 | Train Loss: 0.4521 | Val F1: 0.8612\n",
      "Epoch 9/50 | Train Loss: 0.3507 | Val F1: 0.8558\n",
      "Epoch 10/50 | Train Loss: 0.2869 | Val F1: 0.8639\n",
      "Epoch 11/50 | Train Loss: 0.2271 | Val F1: 0.8762\n",
      "Epoch 12/50 | Train Loss: 0.1966 | Val F1: 0.8571\n",
      "Epoch 13/50 | Train Loss: 0.1592 | Val F1: 0.8952\n",
      "Epoch 14/50 | Train Loss: 0.1300 | Val F1: 0.8748\n",
      "Epoch 15/50 | Train Loss: 0.1015 | Val F1: 0.8925\n",
      "Epoch 16/50 | Train Loss: 0.0876 | Val F1: 0.9102\n",
      "Epoch 17/50 | Train Loss: 0.0725 | Val F1: 0.8980\n",
      "Epoch 18/50 | Train Loss: 0.0604 | Val F1: 0.9102\n",
      "Epoch 19/50 | Train Loss: 0.0465 | Val F1: 0.9293\n",
      "Epoch 20/50 | Train Loss: 0.0429 | Val F1: 0.9170\n",
      "Epoch 21/50 | Train Loss: 0.0382 | Val F1: 0.9048\n",
      "Epoch 22/50 | Train Loss: 0.0332 | Val F1: 0.9252\n",
      "Epoch 23/50 | Train Loss: 0.0285 | Val F1: 0.9129\n",
      "Epoch 24/50 | Train Loss: 0.0248 | Val F1: 0.9184\n",
      "Epoch 25/50 | Train Loss: 0.0230 | Val F1: 0.9184\n",
      "Epoch 26/50 | Train Loss: 0.0207 | Val F1: 0.9156\n",
      "Epoch 27/50 | Train Loss: 0.0184 | Val F1: 0.9143\n",
      "Epoch 28/50 | Train Loss: 0.0214 | Val F1: 0.9184\n",
      "Epoch 29/50 | Train Loss: 0.0150 | Val F1: 0.9279\n",
      "Epoch 30/50 | Train Loss: 0.0146 | Val F1: 0.9265\n",
      "Epoch 31/50 | Train Loss: 0.0120 | Val F1: 0.9129\n",
      "Epoch 32/50 | Train Loss: 0.0108 | Val F1: 0.9211\n",
      "Epoch 33/50 | Train Loss: 0.0099 | Val F1: 0.9265\n",
      "Epoch 34/50 | Train Loss: 0.0096 | Val F1: 0.9129\n",
      "\n",
      "=== Training with 6 encoder blocks ===\n"
     ]
    },
    {
     "name": "stderr",
     "output_type": "stream",
     "text": [
      "c:\\Users\\kashp\\miniconda3\\envs\\dla3\\lib\\site-packages\\torch\\nn\\modules\\transformer.py:385: UserWarning: enable_nested_tensor is True, but self.use_nested_tensor is False because encoder_layer.self_attn.batch_first was not True(use batch_first for better inference performance)\n",
      "  warnings.warn(\n"
     ]
    },
    {
     "name": "stdout",
     "output_type": "stream",
     "text": [
      "Epoch 1/50 | Train Loss: 1.5821 | Val F1: 0.2857\n",
      "Epoch 2/50 | Train Loss: 1.5027 | Val F1: 0.3959\n",
      "Epoch 3/50 | Train Loss: 1.3321 | Val F1: 0.4000\n",
      "Epoch 4/50 | Train Loss: 1.2277 | Val F1: 0.4327\n",
      "Epoch 5/50 | Train Loss: 1.0694 | Val F1: 0.5007\n",
      "Epoch 6/50 | Train Loss: 0.9389 | Val F1: 0.6748\n",
      "Epoch 7/50 | Train Loss: 0.8280 | Val F1: 0.7483\n",
      "Epoch 8/50 | Train Loss: 0.6806 | Val F1: 0.8218\n",
      "Epoch 9/50 | Train Loss: 0.5509 | Val F1: 0.8177\n",
      "Epoch 10/50 | Train Loss: 0.4622 | Val F1: 0.7483\n",
      "Epoch 11/50 | Train Loss: 0.4006 | Val F1: 0.8639\n",
      "Epoch 12/50 | Train Loss: 0.3069 | Val F1: 0.8395\n",
      "Epoch 13/50 | Train Loss: 0.2545 | Val F1: 0.8721\n",
      "Epoch 14/50 | Train Loss: 0.2207 | Val F1: 0.9007\n",
      "Epoch 15/50 | Train Loss: 0.1781 | Val F1: 0.8884\n",
      "Epoch 16/50 | Train Loss: 0.1571 | Val F1: 0.9088\n",
      "Epoch 17/50 | Train Loss: 0.1340 | Val F1: 0.8571\n",
      "Epoch 18/50 | Train Loss: 0.1098 | Val F1: 0.9075\n",
      "Epoch 19/50 | Train Loss: 0.0816 | Val F1: 0.9224\n",
      "Epoch 20/50 | Train Loss: 0.0607 | Val F1: 0.9170\n",
      "Epoch 21/50 | Train Loss: 0.0592 | Val F1: 0.9075\n",
      "Epoch 22/50 | Train Loss: 0.0516 | Val F1: 0.9238\n",
      "Epoch 23/50 | Train Loss: 0.0441 | Val F1: 0.9143\n",
      "Epoch 24/50 | Train Loss: 0.0421 | Val F1: 0.9211\n",
      "Epoch 25/50 | Train Loss: 0.0383 | Val F1: 0.9333\n",
      "Epoch 26/50 | Train Loss: 0.0315 | Val F1: 0.9224\n",
      "Epoch 27/50 | Train Loss: 0.0279 | Val F1: 0.9238\n",
      "Epoch 28/50 | Train Loss: 0.0215 | Val F1: 0.9224\n",
      "Epoch 29/50 | Train Loss: 0.0187 | Val F1: 0.9293\n",
      "Epoch 30/50 | Train Loss: 0.0175 | Val F1: 0.9238\n",
      "Epoch 31/50 | Train Loss: 0.0157 | Val F1: 0.9279\n",
      "Epoch 32/50 | Train Loss: 0.0145 | Val F1: 0.9252\n",
      "Epoch 33/50 | Train Loss: 0.0137 | Val F1: 0.9170\n",
      "Epoch 34/50 | Train Loss: 0.0119 | Val F1: 0.9265\n",
      "Epoch 35/50 | Train Loss: 0.0112 | Val F1: 0.9156\n",
      "Epoch 36/50 | Train Loss: 0.0128 | Val F1: 0.9320\n",
      "Epoch 37/50 | Train Loss: 0.0142 | Val F1: 0.9252\n",
      "Epoch 38/50 | Train Loss: 0.0106 | Val F1: 0.9279\n",
      "Epoch 39/50 | Train Loss: 0.0091 | Val F1: 0.9252\n",
      "Epoch 40/50 | Train Loss: 0.0083 | Val F1: 0.9252\n",
      "\n",
      "Encoder Block Results:\n",
      "2 layers: F1 = 0.9265\n",
      "4 layers: F1 = 0.9293\n",
      "6 layers: F1 = 0.9333\n",
      "\n",
      "==================================================\n",
      "Analyzing Positional Embeddings...\n",
      "\n",
      "=== Training with positional embeddings ===\n"
     ]
    },
    {
     "name": "stderr",
     "output_type": "stream",
     "text": [
      "c:\\Users\\kashp\\miniconda3\\envs\\dla3\\lib\\site-packages\\torch\\nn\\modules\\transformer.py:385: UserWarning: enable_nested_tensor is True, but self.use_nested_tensor is False because encoder_layer.self_attn.batch_first was not True(use batch_first for better inference performance)\n",
      "  warnings.warn(\n"
     ]
    },
    {
     "name": "stdout",
     "output_type": "stream",
     "text": [
      "Epoch 1/50 | Train Loss: 1.5547 | Val F1: 0.2490\n",
      "Epoch 2/50 | Train Loss: 1.4691 | Val F1: 0.4218\n",
      "Epoch 3/50 | Train Loss: 1.3224 | Val F1: 0.3429\n",
      "Epoch 4/50 | Train Loss: 1.1459 | Val F1: 0.6517\n",
      "Epoch 5/50 | Train Loss: 0.9198 | Val F1: 0.6612\n",
      "Epoch 6/50 | Train Loss: 0.7057 | Val F1: 0.7946\n",
      "Epoch 7/50 | Train Loss: 0.5279 | Val F1: 0.8585\n",
      "Epoch 8/50 | Train Loss: 0.4115 | Val F1: 0.8694\n",
      "Epoch 9/50 | Train Loss: 0.3100 | Val F1: 0.8816\n",
      "Epoch 10/50 | Train Loss: 0.2519 | Val F1: 0.8639\n",
      "Epoch 11/50 | Train Loss: 0.2081 | Val F1: 0.8571\n",
      "Epoch 12/50 | Train Loss: 0.1762 | Val F1: 0.9088\n",
      "Epoch 13/50 | Train Loss: 0.1411 | Val F1: 0.9088\n",
      "Epoch 14/50 | Train Loss: 0.1176 | Val F1: 0.8816\n",
      "Epoch 15/50 | Train Loss: 0.0998 | Val F1: 0.8871\n",
      "Epoch 16/50 | Train Loss: 0.0832 | Val F1: 0.9156\n",
      "Epoch 17/50 | Train Loss: 0.0719 | Val F1: 0.8884\n",
      "Epoch 18/50 | Train Loss: 0.0580 | Val F1: 0.9184\n",
      "Epoch 19/50 | Train Loss: 0.0505 | Val F1: 0.9102\n",
      "Epoch 20/50 | Train Loss: 0.0438 | Val F1: 0.9184\n",
      "Epoch 21/50 | Train Loss: 0.0395 | Val F1: 0.8803\n",
      "Epoch 22/50 | Train Loss: 0.0383 | Val F1: 0.9102\n",
      "Epoch 23/50 | Train Loss: 0.0369 | Val F1: 0.8993\n",
      "Epoch 24/50 | Train Loss: 0.0317 | Val F1: 0.9197\n",
      "Epoch 25/50 | Train Loss: 0.0274 | Val F1: 0.9048\n",
      "Epoch 26/50 | Train Loss: 0.0242 | Val F1: 0.8993\n",
      "Epoch 27/50 | Train Loss: 0.0214 | Val F1: 0.9170\n",
      "Epoch 28/50 | Train Loss: 0.0204 | Val F1: 0.8993\n",
      "Epoch 29/50 | Train Loss: 0.0215 | Val F1: 0.9116\n",
      "Epoch 30/50 | Train Loss: 0.0184 | Val F1: 0.9143\n",
      "Epoch 31/50 | Train Loss: 0.0159 | Val F1: 0.9211\n",
      "Epoch 32/50 | Train Loss: 0.0166 | Val F1: 0.8980\n",
      "Epoch 33/50 | Train Loss: 0.0117 | Val F1: 0.9293\n",
      "Epoch 34/50 | Train Loss: 0.0114 | Val F1: 0.9293\n",
      "Epoch 35/50 | Train Loss: 0.0118 | Val F1: 0.9279\n",
      "Epoch 36/50 | Train Loss: 0.0160 | Val F1: 0.9034\n",
      "Epoch 37/50 | Train Loss: 0.0150 | Val F1: 0.9184\n",
      "Epoch 38/50 | Train Loss: 0.0101 | Val F1: 0.9061\n",
      "Epoch 39/50 | Train Loss: 0.0082 | Val F1: 0.9197\n",
      "Epoch 40/50 | Train Loss: 0.0078 | Val F1: 0.9252\n",
      "Epoch 41/50 | Train Loss: 0.0077 | Val F1: 0.9279\n",
      "Epoch 42/50 | Train Loss: 0.0069 | Val F1: 0.9279\n",
      "Epoch 43/50 | Train Loss: 0.0066 | Val F1: 0.9129\n",
      "Epoch 44/50 | Train Loss: 0.0071 | Val F1: 0.9061\n",
      "Epoch 45/50 | Train Loss: 0.0067 | Val F1: 0.9265\n",
      "Epoch 46/50 | Train Loss: 0.0073 | Val F1: 0.9306\n",
      "Epoch 47/50 | Train Loss: 0.0085 | Val F1: 0.9415\n",
      "Epoch 48/50 | Train Loss: 0.0066 | Val F1: 0.9442\n",
      "Epoch 49/50 | Train Loss: 0.0053 | Val F1: 0.9224\n",
      "Epoch 50/50 | Train Loss: 0.0049 | Val F1: 0.9211\n",
      "\n",
      "=== Training without positional embeddings ===\n"
     ]
    },
    {
     "name": "stderr",
     "output_type": "stream",
     "text": [
      "c:\\Users\\kashp\\miniconda3\\envs\\dla3\\lib\\site-packages\\torch\\nn\\modules\\transformer.py:385: UserWarning: enable_nested_tensor is True, but self.use_nested_tensor is False because encoder_layer.self_attn.batch_first was not True(use batch_first for better inference performance)\n",
      "  warnings.warn(\n"
     ]
    },
    {
     "name": "stdout",
     "output_type": "stream",
     "text": [
      "Epoch 1/50 | Train Loss: 1.5310 | Val F1: 0.4735\n",
      "Epoch 2/50 | Train Loss: 1.3746 | Val F1: 0.4707\n",
      "Epoch 3/50 | Train Loss: 1.0452 | Val F1: 0.7333\n",
      "Epoch 4/50 | Train Loss: 0.6977 | Val F1: 0.8272\n",
      "Epoch 5/50 | Train Loss: 0.4838 | Val F1: 0.8340\n",
      "Epoch 6/50 | Train Loss: 0.3825 | Val F1: 0.8857\n",
      "Epoch 7/50 | Train Loss: 0.2967 | Val F1: 0.9075\n",
      "Epoch 8/50 | Train Loss: 0.2390 | Val F1: 0.9088\n",
      "Epoch 9/50 | Train Loss: 0.1932 | Val F1: 0.9388\n",
      "Epoch 10/50 | Train Loss: 0.1561 | Val F1: 0.9265\n",
      "Epoch 11/50 | Train Loss: 0.1275 | Val F1: 0.9333\n",
      "Epoch 12/50 | Train Loss: 0.1155 | Val F1: 0.9374\n",
      "Epoch 13/50 | Train Loss: 0.0978 | Val F1: 0.9333\n",
      "Epoch 14/50 | Train Loss: 0.0872 | Val F1: 0.9293\n",
      "Epoch 15/50 | Train Loss: 0.0757 | Val F1: 0.9401\n",
      "Epoch 16/50 | Train Loss: 0.0641 | Val F1: 0.9442\n",
      "Epoch 17/50 | Train Loss: 0.0536 | Val F1: 0.9469\n",
      "Epoch 18/50 | Train Loss: 0.0488 | Val F1: 0.9401\n",
      "Epoch 19/50 | Train Loss: 0.0418 | Val F1: 0.9401\n",
      "Epoch 20/50 | Train Loss: 0.0421 | Val F1: 0.9415\n",
      "Epoch 21/50 | Train Loss: 0.0399 | Val F1: 0.9415\n",
      "Epoch 22/50 | Train Loss: 0.0339 | Val F1: 0.9469\n",
      "Epoch 23/50 | Train Loss: 0.0277 | Val F1: 0.9483\n",
      "Epoch 24/50 | Train Loss: 0.0283 | Val F1: 0.9456\n",
      "Epoch 25/50 | Train Loss: 0.0319 | Val F1: 0.9374\n",
      "Epoch 26/50 | Train Loss: 0.0240 | Val F1: 0.9388\n",
      "Epoch 27/50 | Train Loss: 0.0206 | Val F1: 0.9429\n",
      "Epoch 28/50 | Train Loss: 0.0189 | Val F1: 0.9429\n",
      "Epoch 29/50 | Train Loss: 0.0171 | Val F1: 0.9415\n",
      "Epoch 30/50 | Train Loss: 0.0156 | Val F1: 0.9442\n",
      "Epoch 31/50 | Train Loss: 0.0139 | Val F1: 0.9415\n",
      "Epoch 32/50 | Train Loss: 0.0120 | Val F1: 0.9429\n",
      "Epoch 33/50 | Train Loss: 0.0120 | Val F1: 0.9388\n",
      "Epoch 34/50 | Train Loss: 0.0109 | Val F1: 0.9429\n",
      "Epoch 35/50 | Train Loss: 0.0104 | Val F1: 0.9429\n",
      "Epoch 36/50 | Train Loss: 0.0105 | Val F1: 0.9429\n",
      "Epoch 37/50 | Train Loss: 0.0095 | Val F1: 0.9456\n",
      "Epoch 38/50 | Train Loss: 0.0086 | Val F1: 0.9388\n",
      "\n",
      "Positional Embedding Results:\n",
      "With Pos: F1 = 0.9442\n",
      "Without Pos: F1 = 0.9483\n"
     ]
    },
    {
     "data": {
      "image/png": "[encoded data removed]",
      "text/plain": [
       "<Figure size 720x360 with 1 Axes>"
      ]
     },
     "metadata": {
      "needs_background": "light"
     },
     "output_type": "display_data"
    },
    {
     "data": {
      "image/png": "[encoded data removed]",
      "text/plain": [
       "<Figure size 720x360 with 1 Axes>"
      ]
     },
     "metadata": {
      "needs_background": "light"
     },
     "output_type": "display_data"
    }
   ],
   "source": [
    "patience = 15 \n",
    "def analyze_encoder_blocks():\n",
    "    \"\"\"Analyze performance with different numbers of encoder blocks\"\"\"\n",
    "    encoder_results = {}\n",
    "    \n",
    "    for num_layers in [2, 4, 6]:\n",
    "        print(f\"\\n=== Training with {num_layers} encoder blocks ===\")\n",
    "        \n",
    "        # Model configuration\n",
    "        model_params = {\n",
    "            \"vocab_size\": len(train_data.vocab),\n",
    "            \"embed_dim\": 512,\n",
    "            \"num_classes\": len(train_data.label2idx),\n",
    "            \"num_layers\": num_layers,\n",
    "            \"num_heads\": 8,\n",
    "            \"max_len\": max_len,\n",
    "            \"pos_embed\": True\n",
    "        }\n",
    "        \n",
    "        # Initialize fresh model\n",
    "        model = TextTransformer(**model_params).to(device)\n",
    "        optimizer = optim.AdamW(model.parameters(), lr=0.0002)\n",
    "        \n",
    "        best_f1 = 0\n",
    "        patience_counter = 0\n",
    "        \n",
    "        for epoch in range(EPOCHS):\n",
    "            avg_train_loss, train_acc = train_model(model, train_loader, criterion, optimizer)\n",
    "            avg_val_loss, val_acc, val_f1 = evaluate_model(model, test_loader, criterion)\n",
    "            \n",
    "            print(f\"Epoch {epoch+1}/{EPOCHS} | \"\n",
    "                  f\"Train Loss: {avg_train_loss:.4f} | Val F1: {val_f1:.4f}\")\n",
    "            \n",
    "            # Early stopping\n",
    "            if val_f1 > best_f1:\n",
    "                best_f1 = val_f1\n",
    "                patience_counter = 0\n",
    "            else:\n",
    "                patience_counter += 1\n",
    "                \n",
    "            if patience_counter >= patience:\n",
    "                break\n",
    "                \n",
    "        encoder_results[num_layers] = best_f1\n",
    "    \n",
    "    return encoder_results\n",
    "\n",
    "def analyze_positional_embeddings():\n",
    "    \"\"\"Analyze performance with/without positional embeddings\"\"\"\n",
    "    pos_results = {}\n",
    "    \n",
    "    for use_pos in [True, False]:\n",
    "        print(f\"\\n=== Training {'with' if use_pos else 'without'} positional embeddings ===\")\n",
    "        \n",
    "        # Model configuration\n",
    "        model_params = {\n",
    "            \"vocab_size\": len(train_data.vocab),\n",
    "            \"embed_dim\": 512,\n",
    "            \"num_classes\": len(train_data.label2idx),\n",
    "            \"num_layers\": 2,  # Default layer count\n",
    "            \"num_heads\": 8,\n",
    "            \"max_len\": max_len,\n",
    "            \"pos_embed\": use_pos\n",
    "        }\n",
    "        \n",
    "        # Initialize fresh model\n",
    "        model = TextTransformer(**model_params).to(device)\n",
    "        optimizer = optim.AdamW(model.parameters(), lr=0.0002)\n",
    "        \n",
    "        best_f1 = 0\n",
    "        patience_counter = 0\n",
    "        \n",
    "        for epoch in range(EPOCHS):\n",
    "            avg_train_loss, train_acc = train_model(model, train_loader, criterion, optimizer)\n",
    "            avg_val_loss, val_acc, val_f1 = evaluate_model(model, test_loader, criterion)\n",
    "            \n",
    "            print(f\"Epoch {epoch+1}/{EPOCHS} | \"\n",
    "                  f\"Train Loss: {avg_train_loss:.4f} | Val F1: {val_f1:.4f}\")\n",
    "            \n",
    "            # Early stopping\n",
    "            if val_f1 > best_f1:\n",
    "                best_f1 = val_f1\n",
    "                patience_counter = 0\n",
    "            else:\n",
    "                patience_counter += 1\n",
    "                \n",
    "            if patience_counter >= patience:\n",
    "                break\n",
    "                \n",
    "        pos_results['With Pos' if use_pos else 'Without Pos'] = best_f1\n",
    "    \n",
    "    return pos_results\n",
    "\n",
    "# Add this visualization function\n",
    "def plot_results(results, title, xlabel):\n",
    "    plt.figure(figsize=(10, 5))\n",
    "    plt.bar(results.keys(), results.values())\n",
    "    plt.title(title)\n",
    "    plt.xlabel(xlabel)\n",
    "    plt.ylabel(\"Micro F1 Score\")\n",
    "    plt.ylim(0, 1)\n",
    "    plt.grid(True, axis='y', linestyle='--', alpha=0.7)\n",
    "    plt.show()\n",
    "\n",
    "# Run analyses after your single model training\n",
    "print(\"\\n\" + \"=\"*50)\n",
    "print(\"Analyzing Encoder Blocks...\")\n",
    "encoder_results = analyze_encoder_blocks()\n",
    "print(\"\\nEncoder Block Results:\")\n",
    "for layers, f1 in encoder_results.items():\n",
    "    print(f\"{layers} layers: F1 = {f1:.4f}\")\n",
    "\n",
    "print(\"\\n\" + \"=\"*50)\n",
    "print(\"Analyzing Positional Embeddings...\")\n",
    "pos_results = analyze_positional_embeddings()\n",
    "print(\"\\nPositional Embedding Results:\")\n",
    "for config, f1 in pos_results.items():\n",
    "    print(f\"{config}: F1 = {f1:.4f}\")\n",
    "\n",
    "# Plot results\n",
    "plot_results(encoder_results, \"Effect of Encoder Blocks\", \"Number of Encoder Layers\")\n",
    "plot_results(pos_results, \"Effect of Positional Embeddings\", \"Configuration\")\n"
   ]
  },
  {
   "cell_type": "code",
   "execution_count": 17,
   "metadata": {},
   "outputs": [
    {
     "name": "stdout",
     "output_type": "stream",
     "text": [
      "Epoch 1/50 | Train Loss: 1.5530 | Train Acc: 26.78% | Val Loss: 1.4968 | Val Acc: 29.66% | f1: 0.30\n",
      "Epoch 2/50 | Train Loss: 1.4887 | Train Acc: 34.43% | Val Loss: 1.4190 | Val Acc: 50.88% | f1: 0.51\n",
      "Epoch 3/50 | Train Loss: 1.3480 | Train Acc: 44.43% | Val Loss: 1.2516 | Val Acc: 51.97% | f1: 0.52\n",
      "Epoch 4/50 | Train Loss: 1.1645 | Train Acc: 58.26% | Val Loss: 1.0561 | Val Acc: 67.35% | f1: 0.67\n",
      "Epoch 5/50 | Train Loss: 0.9214 | Train Acc: 72.48% | Val Loss: 0.8455 | Val Acc: 76.87% | f1: 0.77\n",
      "Epoch 6/50 | Train Loss: 0.7367 | Train Acc: 80.74% | Val Loss: 0.7231 | Val Acc: 82.86% | f1: 0.83\n",
      "Epoch 7/50 | Train Loss: 0.5636 | Train Acc: 90.67% | Val Loss: 0.6065 | Val Acc: 86.26% | f1: 0.86\n",
      "Epoch 8/50 | Train Loss: 0.4427 | Train Acc: 93.09% | Val Loss: 0.5331 | Val Acc: 88.44% | f1: 0.88\n",
      "Epoch 9/50 | Train Loss: 0.3702 | Train Acc: 93.83% | Val Loss: 0.4828 | Val Acc: 88.57% | f1: 0.89\n",
      "Epoch 10/50 | Train Loss: 0.2868 | Train Acc: 97.32% | Val Loss: 0.4956 | Val Acc: 84.49% | f1: 0.84\n",
      "Epoch 11/50 | Train Loss: 0.2371 | Train Acc: 97.32% | Val Loss: 0.4098 | Val Acc: 90.48% | f1: 0.90\n",
      "Epoch 12/50 | Train Loss: 0.1928 | Train Acc: 98.32% | Val Loss: 0.3789 | Val Acc: 90.61% | f1: 0.91\n",
      "Epoch 13/50 | Train Loss: 0.1665 | Train Acc: 98.86% | Val Loss: 0.3550 | Val Acc: 91.16% | f1: 0.91\n",
      "Epoch 14/50 | Train Loss: 0.1357 | Train Acc: 99.33% | Val Loss: 0.3568 | Val Acc: 90.34% | f1: 0.90\n",
      "Epoch 15/50 | Train Loss: 0.1106 | Train Acc: 99.46% | Val Loss: 0.3276 | Val Acc: 92.11% | f1: 0.92\n",
      "Epoch 16/50 | Train Loss: 0.0941 | Train Acc: 99.66% | Val Loss: 0.3542 | Val Acc: 89.39% | f1: 0.89\n",
      "Epoch 17/50 | Train Loss: 0.0821 | Train Acc: 99.80% | Val Loss: 0.3263 | Val Acc: 91.02% | f1: 0.91\n",
      "Epoch 18/50 | Train Loss: 0.0696 | Train Acc: 99.66% | Val Loss: 0.3401 | Val Acc: 90.07% | f1: 0.90\n",
      "Epoch 19/50 | Train Loss: 0.0594 | Train Acc: 99.93% | Val Loss: 0.3014 | Val Acc: 91.43% | f1: 0.91\n",
      "Epoch 20/50 | Train Loss: 0.0520 | Train Acc: 99.87% | Val Loss: 0.2816 | Val Acc: 93.47% | f1: 0.93\n",
      "Epoch 21/50 | Train Loss: 0.0466 | Train Acc: 99.87% | Val Loss: 0.2907 | Val Acc: 92.11% | f1: 0.92\n",
      "Epoch 22/50 | Train Loss: 0.0436 | Train Acc: 99.87% | Val Loss: 0.2661 | Val Acc: 93.20% | f1: 0.93\n",
      "Epoch 23/50 | Train Loss: 0.0352 | Train Acc: 99.93% | Val Loss: 0.2797 | Val Acc: 92.52% | f1: 0.93\n",
      "Epoch 24/50 | Train Loss: 0.0308 | Train Acc: 100.00% | Val Loss: 0.2761 | Val Acc: 92.38% | f1: 0.92\n",
      "Epoch 25/50 | Train Loss: 0.0288 | Train Acc: 100.00% | Val Loss: 0.2650 | Val Acc: 93.61% | f1: 0.94\n",
      "Epoch 26/50 | Train Loss: 0.0254 | Train Acc: 100.00% | Val Loss: 0.2598 | Val Acc: 93.20% | f1: 0.93\n",
      "Epoch 27/50 | Train Loss: 0.0243 | Train Acc: 99.93% | Val Loss: 0.2798 | Val Acc: 92.38% | f1: 0.92\n",
      "Epoch 28/50 | Train Loss: 0.0213 | Train Acc: 100.00% | Val Loss: 0.3128 | Val Acc: 90.34% | f1: 0.90\n",
      "Epoch 29/50 | Train Loss: 0.0204 | Train Acc: 100.00% | Val Loss: 0.2572 | Val Acc: 93.74% | f1: 0.94\n",
      "Epoch 30/50 | Train Loss: 0.0182 | Train Acc: 100.00% | Val Loss: 0.2540 | Val Acc: 93.74% | f1: 0.94\n",
      "Epoch 31/50 | Train Loss: 0.0190 | Train Acc: 100.00% | Val Loss: 0.2475 | Val Acc: 93.61% | f1: 0.94\n",
      "Epoch 32/50 | Train Loss: 0.0156 | Train Acc: 100.00% | Val Loss: 0.2492 | Val Acc: 93.88% | f1: 0.94\n",
      "Epoch 33/50 | Train Loss: 0.0135 | Train Acc: 100.00% | Val Loss: 0.2581 | Val Acc: 93.06% | f1: 0.93\n",
      "Epoch 34/50 | Train Loss: 0.0132 | Train Acc: 100.00% | Val Loss: 0.2503 | Val Acc: 93.33% | f1: 0.93\n",
      "Epoch 35/50 | Train Loss: 0.0133 | Train Acc: 100.00% | Val Loss: 0.2540 | Val Acc: 92.65% | f1: 0.93\n",
      "Epoch 36/50 | Train Loss: 0.0126 | Train Acc: 100.00% | Val Loss: 0.2552 | Val Acc: 93.47% | f1: 0.93\n",
      "Epoch 37/50 | Train Loss: 0.0101 | Train Acc: 100.00% | Val Loss: 0.2350 | Val Acc: 94.29% | f1: 0.94\n",
      "Epoch 38/50 | Train Loss: 0.0092 | Train Acc: 100.00% | Val Loss: 0.2421 | Val Acc: 94.29% | f1: 0.94\n",
      "Epoch 39/50 | Train Loss: 0.0088 | Train Acc: 100.00% | Val Loss: 0.2478 | Val Acc: 93.33% | f1: 0.93\n",
      "Epoch 40/50 | Train Loss: 0.0091 | Train Acc: 100.00% | Val Loss: 0.2610 | Val Acc: 92.79% | f1: 0.93\n",
      "Epoch 41/50 | Train Loss: 0.0089 | Train Acc: 100.00% | Val Loss: 0.2406 | Val Acc: 94.15% | f1: 0.94\n",
      "Epoch 42/50 | Train Loss: 0.0080 | Train Acc: 100.00% | Val Loss: 0.2455 | Val Acc: 93.88% | f1: 0.94\n",
      "Epoch 43/50 | Train Loss: 0.0077 | Train Acc: 100.00% | Val Loss: 0.2442 | Val Acc: 94.01% | f1: 0.94\n",
      "Epoch 44/50 | Train Loss: 0.0078 | Train Acc: 100.00% | Val Loss: 0.2462 | Val Acc: 93.20% | f1: 0.93\n",
      "Epoch 45/50 | Train Loss: 0.0089 | Train Acc: 100.00% | Val Loss: 0.2413 | Val Acc: 93.33% | f1: 0.93\n",
      "Epoch 46/50 | Train Loss: 0.0077 | Train Acc: 100.00% | Val Loss: 0.2530 | Val Acc: 93.33% | f1: 0.93\n",
      "Epoch 47/50 | Train Loss: 0.0064 | Train Acc: 100.00% | Val Loss: 0.2439 | Val Acc: 93.33% | f1: 0.93\n",
      "Epoch 48/50 | Train Loss: 0.0062 | Train Acc: 100.00% | Val Loss: 0.2457 | Val Acc: 93.06% | f1: 0.93\n",
      "Epoch 49/50 | Train Loss: 0.0056 | Train Acc: 100.00% | Val Loss: 0.2372 | Val Acc: 93.74% | f1: 0.94\n",
      "Epoch 50/50 | Train Loss: 0.0059 | Train Acc: 100.00% | Val Loss: 0.2528 | Val Acc: 92.79% | f1: 0.93\n"
     ]
    }
   ],
   "source": [
    "patience = 15 \n",
    "best_val_loss = float('inf')\n",
    "counter = 0  \n",
    "for epoch in range(EPOCHS):\n",
    "    avg_train_loss , train_accuracy = train_model(model, train_loader, criterion, optimizer)\n",
    "    avg_val_loss, val_accuracy ,f1 = evaluate_model(model, test_loader, criterion)\n",
    "    print(f\"Epoch {epoch+1}/{EPOCHS} | \"\n",
    "              f\"Train Loss: {avg_train_loss:.4f} | Train Acc: {train_accuracy:.2f}% | \"\n",
    "              f\"Val Loss: {avg_val_loss:.4f} | Val Acc: {val_accuracy:.2f}% | f1: {f1:.2f}\")\n",
    "    \n",
    "    if avg_val_loss < best_val_loss:\n",
    "        best_val_loss = avg_val_loss\n",
    "        counter = 0 \n",
    "        best_model = model.state_dict()  \n",
    "    else:\n",
    "        counter += 1\n",
    "\n",
    "    if counter >= patience:\n",
    "        print(f\"Early stopping at epoch {epoch}. Best val loss: {best_val_loss:.4f}\")\n",
    "        break"
   ]
  },
  {
   "cell_type": "code",
   "execution_count": 20,
   "metadata": {},
   "outputs": [
    {
     "data": {
      "text/plain": [
       "<All keys matched successfully>"
      ]
     },
     "execution_count": 20,
     "metadata": {},
     "output_type": "execute_result"
    }
   ],
   "source": [
    "model.load_state_dict(best_model)"
   ]
  },
  {
   "cell_type": "code",
   "execution_count": 21,
   "metadata": {},
   "outputs": [
    {
     "name": "stdout",
     "output_type": "stream",
     "text": [
      "\n",
      "Final Micro F1 Score = 0.9279\n"
     ]
    }
   ],
   "source": [
    "# Final evaluation and confusion matrix\n",
    "avg_val_loss, val_accuracy, f1 = evaluate_model(model, test_loader, criterion)\n",
    "print(f\"\\nFinal Micro F1 Score = {f1:.4f}\")\n",
    "label_names = [label for label, _ in sorted(train_data.label2idx.items(), key=lambda x: x[1])]\n"
   ]
  },
  {
   "cell_type": "code",
   "execution_count": null,
   "metadata": {},
   "outputs": [],
   "source": []
  },
  {
   "cell_type": "code",
   "execution_count": null,
   "metadata": {},
   "outputs": [],
   "source": []
  }
 ],
 "metadata": {
  "kernelspec": {
   "display_name": "dla3",
   "language": "python",
   "name": "python3"
  },
  "language_info": {
   "codemirror_mode": {
    "name": "ipython",
    "version": 3
   },
   "file_extension": ".py",
   "mimetype": "text/x-python",
   "name": "python",
   "nbconvert_exporter": "python",
   "pygments_lexer": "ipython3",
   "version": "3.10.16"
  }
 },
 "nbformat": 4,
 "nbformat_minor": 2
}
