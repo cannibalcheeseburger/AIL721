{
 "cells": [
  {
   "cell_type": "code",
   "execution_count": 18,
   "metadata": {},
   "outputs": [],
   "source": [
    "import torch\n",
    "import torch.nn as nn\n",
    "import torch.optim as optim\n",
    "from torch.utils.data import Dataset, DataLoader\n",
    "import pandas as pd\n",
    "import numpy as np\n",
    "import re\n",
    "from collections import Counter\n",
    "from sklearn.metrics import f1_score\n",
    "import matplotlib.pyplot as plt\n",
    "from torch.nn import TransformerEncoder, TransformerEncoderLayer\n",
    "import matplotlib.pyplot as plt\n"
   ]
  },
  {
   "cell_type": "code",
   "execution_count": 19,
   "metadata": {},
   "outputs": [],
   "source": [
    "seed = 43\n",
    "torch.manual_seed(seed)\n",
    "device = torch.device(\"cuda\" if torch.cuda.is_available() else \"mps\" if torch.backends.mps.is_available() else \"cpu\")"
   ]
  },
  {
   "cell_type": "code",
   "execution_count": null,
   "metadata": {},
   "outputs": [],
   "source": [
    "batch_size = 64"
   ]
  },
  {
   "cell_type": "code",
   "execution_count": 21,
   "metadata": {},
   "outputs": [],
   "source": [
    "def simple_tokenizer(text):\n",
    "    return re.findall(r'\\b\\w+\\b', str(text).lower())"
   ]
  },
  {
   "cell_type": "code",
   "execution_count": 22,
   "metadata": {},
   "outputs": [
    {
     "name": "stdout",
     "output_type": "stream",
     "text": [
      "Train samples: 1490, Test samples: 735\n"
     ]
    }
   ],
   "source": [
    "train_df = pd.read_csv(\"Datasets/TrainData.csv\")\n",
    "test_df = pd.read_csv(\"Datasets/TestLabels.csv\")\n",
    "\n",
    "train_df.dropna(subset=['Text', 'Category'], inplace=True)\n",
    "test_df.dropna(subset=['Text', 'Label - (business, tech, politics, sport, entertainment)'], inplace=True)\n",
    "\n",
    "print(f\"Train samples: {len(train_df)}, Test samples: {len(test_df)}\")\n",
    "\n",
    "train_texts = train_df['Text'].tolist()\n",
    "train_labels = train_df['Category'].tolist()\n",
    "test_texts = test_df['Text'].tolist()\n",
    "test_labels = test_df['Label - (business, tech, politics, sport, entertainment)'].tolist()"
   ]
  },
  {
   "cell_type": "code",
   "execution_count": 23,
   "metadata": {},
   "outputs": [],
   "source": [
    "train_tokenized = [simple_tokenizer(t) for t in train_texts]\n",
    "test_tokenized = [simple_tokenizer(t) for t in test_texts]"
   ]
  },
  {
   "cell_type": "code",
   "execution_count": 24,
   "metadata": {},
   "outputs": [],
   "source": [
    "lengths = [len(inner_array) for inner_array in train_tokenized]\n",
    "max_len = int(np.percentile(lengths, 90))"
   ]
  },
  {
   "cell_type": "code",
   "execution_count": 25,
   "metadata": {},
   "outputs": [],
   "source": [
    "class NewsDataset(Dataset):\n",
    "    def __init__(self, tokenized_text, labels, vocab=None, label2idx=None, max_len=300):\n",
    "        self.texts = tokenized_text\n",
    "        self.max_len = max_len\n",
    "        if vocab is None:\n",
    "            words = [word for text in self.texts for word in text]\n",
    "            word_freq = Counter(words)\n",
    "            self.vocab = {'<PAD>': 0, '<UNK>': 1}\n",
    "            for word in word_freq:\n",
    "                self.vocab[word] = len(self.vocab)\n",
    "        else:\n",
    "            self.vocab = vocab\n",
    "\n",
    "        self.texts = [self.encode(text) for text in self.texts]\n",
    "\n",
    "        if label2idx is None:\n",
    "            unique_labels = sorted(set(label for label in labels if pd.notna(label)))\n",
    "            self.label2idx = {label: i for i, label in enumerate(unique_labels)}\n",
    "        else:\n",
    "            self.label2idx = label2idx\n",
    "\n",
    "        self.labels = [self.label2idx[label] for label in labels if pd.notna(label)]\n",
    "\n",
    "    def encode(self, tokens):\n",
    "        encoded = [self.vocab.get(tok, self.vocab['<UNK>']) for tok in tokens]\n",
    "        return encoded[:self.max_len] + [0]*(self.max_len - len(encoded))\n",
    "\n",
    "    def __len__(self):\n",
    "        return len(self.texts)\n",
    "\n",
    "    def __getitem__(self, idx):\n",
    "        return torch.tensor(self.texts[idx]), torch.tensor(self.labels[idx])"
   ]
  },
  {
   "cell_type": "code",
   "execution_count": 26,
   "metadata": {},
   "outputs": [],
   "source": [
    "train_data = NewsDataset(train_tokenized, train_labels)\n",
    "test_data = NewsDataset(test_tokenized, test_labels, vocab=train_data.vocab, label2idx=train_data.label2idx)"
   ]
  },
  {
   "cell_type": "code",
   "execution_count": 27,
   "metadata": {},
   "outputs": [],
   "source": [
    "train_loader = DataLoader(train_data, batch_size=batch_size, shuffle=True)\n",
    "test_loader = DataLoader(test_data, batch_size=batch_size)"
   ]
  },
  {
   "cell_type": "code",
   "execution_count": 28,
   "metadata": {},
   "outputs": [],
   "source": [
    "class TextTransformer(nn.Module):\n",
    "    def __init__(self, vocab_size, embed_dim=256, num_classes=5,\n",
    "                 num_layers=4, num_heads=8, max_len=300, pos_embed=True):\n",
    "        super().__init__()\n",
    "        self.embed_dim = embed_dim\n",
    "        self.pos_embed_enabled = pos_embed\n",
    "        \n",
    "        # Embedding layers\n",
    "        self.word_embedding = nn.Embedding(vocab_size, embed_dim)\n",
    "        if pos_embed:\n",
    "            self.position_embedding = nn.Embedding(max_len, embed_dim)\n",
    "        \n",
    "        # Transformer encoder layer\n",
    "        encoder_layer = nn.TransformerEncoderLayer(\n",
    "            d_model=embed_dim,\n",
    "            nhead=num_heads,\n",
    "            dim_feedforward=512,\n",
    "            dropout=0.1,\n",
    "            activation=\"gelu\"\n",
    "        )\n",
    "        self.transformer_encoder = nn.TransformerEncoder(encoder_layer, num_layers=num_layers)\n",
    "        \n",
    "        # Classification layer\n",
    "        self.classifier = nn.Linear(embed_dim, num_classes)\n",
    "    \n",
    "    def forward(self, x):\n",
    "        positions = torch.arange(0, x.size(1), dtype=torch.long).unsqueeze(0).to(device)\n",
    "        \n",
    "        x_embed = self.word_embedding(x)\n",
    "        if self.pos_embed_enabled:\n",
    "            x_embed += self.position_embedding(positions)\n",
    "        \n",
    "        x_transformed = self.transformer_encoder(x_embed)\n",
    "        x_pooled = x_transformed.mean(dim=1)  # Mean pooling across sequence length\n",
    "        \n",
    "        return self.classifier(x_pooled)\n",
    "\n"
   ]
  },
  {
   "cell_type": "code",
   "execution_count": 29,
   "metadata": {},
   "outputs": [],
   "source": [
    "def evaluate_model(model, loader, criterion):\n",
    "    model.eval()\n",
    "    correct = 0\n",
    "    total = 0\n",
    "    total_loss = 0\n",
    "    all_preds ,all_labels = [] ,[]\n",
    "    with torch.no_grad():\n",
    "        for X_batch, y_batch in loader:\n",
    "            X_batch, y_batch = X_batch.to(device), y_batch.to(device)\n",
    "            outputs = model(X_batch)\n",
    "            loss = criterion(outputs, y_batch)\n",
    "            total_loss += loss.item()\n",
    "            _, predicted = torch.max(outputs, 1)\n",
    "            all_preds.extend(predicted.cpu().tolist())\n",
    "            all_labels.extend(y_batch.cpu().tolist())\n",
    "\n",
    "            total += y_batch.size(0)\n",
    "            correct += (predicted == y_batch).sum().item()\n",
    "\n",
    "    avg_loss = total_loss / len(test_loader)\n",
    "    accuracy = 100 * correct / total\n",
    "    f1 = f1_score(all_labels,all_preds,average='micro')\n",
    "    return avg_loss, accuracy,f1"
   ]
  },
  {
   "cell_type": "code",
   "execution_count": 30,
   "metadata": {},
   "outputs": [],
   "source": [
    "def train_model(model, loader, criterion, optimizer):\n",
    "    model.train()\n",
    "    total_loss = 0\n",
    "    correct_train = 0\n",
    "    total_train = 0\n",
    "    for texts, labels in loader:\n",
    "        texts, labels = texts.to(device), labels.to(device)\n",
    "        optimizer.zero_grad()\n",
    "        outputs = model(texts)\n",
    "        loss = criterion(outputs, labels)\n",
    "        loss.backward()\n",
    "        optimizer.step()\n",
    "        total_loss += loss.item()\n",
    "\n",
    "        _, predicted = torch.max(outputs, 1)\n",
    "        total_train += labels.size(0)\n",
    "        correct_train += (predicted == labels).sum().item()\n",
    "    avg_train_loss = total_loss / len(train_loader)\n",
    "    train_accuracy = 100 * correct_train / total_train\n",
    "    return avg_train_loss , train_accuracy"
   ]
  },
  {
   "cell_type": "code",
   "execution_count": 31,
   "metadata": {},
   "outputs": [],
   "source": [
    "EPOCHS = 50\n",
    "lr = 0.0003\n",
    "weight_decay = 1e-3"
   ]
  },
  {
   "cell_type": "code",
   "execution_count": 32,
   "metadata": {},
   "outputs": [
    {
     "name": "stderr",
     "output_type": "stream",
     "text": [
      "c:\\Users\\kashp\\miniconda3\\envs\\dla3\\lib\\site-packages\\torch\\nn\\modules\\transformer.py:385: UserWarning: enable_nested_tensor is True, but self.use_nested_tensor is False because encoder_layer.self_attn.batch_first was not True(use batch_first for better inference performance)\n",
      "  warnings.warn(\n"
     ]
    }
   ],
   "source": [
    "model_params = {\n",
    "    \"vocab_size\": len(train_data.vocab),\n",
    "    \"embed_dim\": 512,\n",
    "    \"num_classes\": len(train_data.label2idx),\n",
    "    \"num_layers\": 2,\n",
    "    \"num_heads\": 8,\n",
    "    \"max_len\": max_len,\n",
    "    \"pos_embed\": True\n",
    "}\n",
    "\n",
    "model = TextTransformer(**model_params).to(device)\n"
   ]
  },
  {
   "cell_type": "code",
   "execution_count": 33,
   "metadata": {},
   "outputs": [],
   "source": [
    "criterion = nn.CrossEntropyLoss()\n",
    "optimizer = optim.AdamW(model.parameters(), lr=0.0002)\n",
    "\n"
   ]
  },
  {
   "cell_type": "code",
   "execution_count": null,
   "metadata": {},
   "outputs": [
    {
     "name": "stdout",
     "output_type": "stream",
     "text": [
      "Epoch 1/50 | Train Loss: 1.5670 | Train Acc: 25.77% | Val Loss: 1.5087 | Val Acc: 25.44% | f1: 0.25\n",
      "Epoch 2/50 | Train Loss: 1.5108 | Train Acc: 29.26% | Val Loss: 1.4756 | Val Acc: 31.56% | f1: 0.32\n",
      "Epoch 3/50 | Train Loss: 1.4561 | Train Acc: 34.50% | Val Loss: 1.3986 | Val Acc: 50.61% | f1: 0.51\n",
      "Epoch 4/50 | Train Loss: 1.3407 | Train Acc: 47.79% | Val Loss: 1.2806 | Val Acc: 54.83% | f1: 0.55\n",
      "Epoch 5/50 | Train Loss: 1.1873 | Train Acc: 56.64% | Val Loss: 1.1291 | Val Acc: 58.64% | f1: 0.59\n",
      "Epoch 6/50 | Train Loss: 1.0348 | Train Acc: 64.56% | Val Loss: 1.0285 | Val Acc: 61.36% | f1: 0.61\n",
      "Epoch 7/50 | Train Loss: 0.8784 | Train Acc: 73.15% | Val Loss: 0.8818 | Val Acc: 76.05% | f1: 0.76\n",
      "Epoch 8/50 | Train Loss: 0.7486 | Train Acc: 80.87% | Val Loss: 0.7848 | Val Acc: 77.41% | f1: 0.77\n",
      "Epoch 9/50 | Train Loss: 0.6511 | Train Acc: 83.62% | Val Loss: 0.7686 | Val Acc: 76.46% | f1: 0.76\n",
      "Epoch 10/50 | Train Loss: 0.5532 | Train Acc: 88.32% | Val Loss: 0.6919 | Val Acc: 79.46% | f1: 0.79\n",
      "Epoch 11/50 | Train Loss: 0.4555 | Train Acc: 91.95% | Val Loss: 0.6192 | Val Acc: 82.72% | f1: 0.83\n",
      "Epoch 12/50 | Train Loss: 0.3983 | Train Acc: 92.95% | Val Loss: 0.5707 | Val Acc: 84.22% | f1: 0.84\n",
      "Epoch 13/50 | Train Loss: 0.3228 | Train Acc: 96.38% | Val Loss: 0.4826 | Val Acc: 89.12% | f1: 0.89\n",
      "Epoch 14/50 | Train Loss: 0.2676 | Train Acc: 97.79% | Val Loss: 0.4637 | Val Acc: 90.07% | f1: 0.90\n",
      "Epoch 15/50 | Train Loss: 0.2276 | Train Acc: 98.52% | Val Loss: 0.4315 | Val Acc: 89.52% | f1: 0.90\n",
      "Epoch 16/50 | Train Loss: 0.2040 | Train Acc: 98.72% | Val Loss: 0.4417 | Val Acc: 88.44% | f1: 0.88\n",
      "Epoch 17/50 | Train Loss: 0.1800 | Train Acc: 99.06% | Val Loss: 0.4210 | Val Acc: 88.71% | f1: 0.89\n",
      "Epoch 18/50 | Train Loss: 0.1527 | Train Acc: 99.46% | Val Loss: 0.4069 | Val Acc: 88.71% | f1: 0.89\n",
      "Epoch 19/50 | Train Loss: 0.1298 | Train Acc: 99.53% | Val Loss: 0.3787 | Val Acc: 90.34% | f1: 0.90\n",
      "Epoch 20/50 | Train Loss: 0.1159 | Train Acc: 99.53% | Val Loss: 0.3589 | Val Acc: 91.84% | f1: 0.92\n",
      "Epoch 21/50 | Train Loss: 0.1029 | Train Acc: 99.66% | Val Loss: 0.3500 | Val Acc: 91.43% | f1: 0.91\n",
      "Epoch 22/50 | Train Loss: 0.0882 | Train Acc: 99.66% | Val Loss: 0.3497 | Val Acc: 91.16% | f1: 0.91\n",
      "Epoch 23/50 | Train Loss: 0.0784 | Train Acc: 99.80% | Val Loss: 0.3454 | Val Acc: 91.84% | f1: 0.92\n",
      "Epoch 24/50 | Train Loss: 0.0712 | Train Acc: 99.73% | Val Loss: 0.3308 | Val Acc: 91.97% | f1: 0.92\n",
      "Epoch 25/50 | Train Loss: 0.0624 | Train Acc: 99.80% | Val Loss: 0.3096 | Val Acc: 92.79% | f1: 0.93\n",
      "Epoch 26/50 | Train Loss: 0.0568 | Train Acc: 99.87% | Val Loss: 0.3147 | Val Acc: 91.70% | f1: 0.92\n",
      "Epoch 27/50 | Train Loss: 0.0529 | Train Acc: 99.80% | Val Loss: 0.3165 | Val Acc: 91.70% | f1: 0.92\n",
      "Epoch 28/50 | Train Loss: 0.0506 | Train Acc: 99.80% | Val Loss: 0.3804 | Val Acc: 87.21% | f1: 0.87\n",
      "Epoch 29/50 | Train Loss: 0.0456 | Train Acc: 99.93% | Val Loss: 0.3161 | Val Acc: 91.43% | f1: 0.91\n",
      "Epoch 30/50 | Train Loss: 0.0392 | Train Acc: 99.80% | Val Loss: 0.3003 | Val Acc: 91.97% | f1: 0.92\n",
      "Epoch 31/50 | Train Loss: 0.0362 | Train Acc: 99.87% | Val Loss: 0.2853 | Val Acc: 92.93% | f1: 0.93\n",
      "Epoch 32/50 | Train Loss: 0.0331 | Train Acc: 99.93% | Val Loss: 0.2728 | Val Acc: 92.93% | f1: 0.93\n",
      "Epoch 33/50 | Train Loss: 0.0308 | Train Acc: 99.93% | Val Loss: 0.2871 | Val Acc: 91.97% | f1: 0.92\n",
      "Epoch 34/50 | Train Loss: 0.0279 | Train Acc: 99.93% | Val Loss: 0.2773 | Val Acc: 92.11% | f1: 0.92\n",
      "Epoch 35/50 | Train Loss: 0.0259 | Train Acc: 99.93% | Val Loss: 0.2828 | Val Acc: 92.24% | f1: 0.92\n",
      "Epoch 36/50 | Train Loss: 0.0249 | Train Acc: 99.93% | Val Loss: 0.2769 | Val Acc: 92.65% | f1: 0.93\n",
      "Epoch 37/50 | Train Loss: 0.0225 | Train Acc: 99.87% | Val Loss: 0.2795 | Val Acc: 92.79% | f1: 0.93\n",
      "Epoch 38/50 | Train Loss: 0.0208 | Train Acc: 99.93% | Val Loss: 0.2812 | Val Acc: 92.11% | f1: 0.92\n",
      "Epoch 39/50 | Train Loss: 0.0193 | Train Acc: 100.00% | Val Loss: 0.2715 | Val Acc: 92.79% | f1: 0.93\n",
      "Epoch 40/50 | Train Loss: 0.0183 | Train Acc: 100.00% | Val Loss: 0.2718 | Val Acc: 92.65% | f1: 0.93\n",
      "Epoch 41/50 | Train Loss: 0.0170 | Train Acc: 100.00% | Val Loss: 0.2580 | Val Acc: 92.79% | f1: 0.93\n",
      "Epoch 42/50 | Train Loss: 0.0162 | Train Acc: 100.00% | Val Loss: 0.2611 | Val Acc: 92.11% | f1: 0.92\n",
      "Epoch 43/50 | Train Loss: 0.0149 | Train Acc: 100.00% | Val Loss: 0.2627 | Val Acc: 92.79% | f1: 0.93\n",
      "Epoch 44/50 | Train Loss: 0.0141 | Train Acc: 100.00% | Val Loss: 0.2727 | Val Acc: 92.79% | f1: 0.93\n",
      "Epoch 45/50 | Train Loss: 0.0135 | Train Acc: 100.00% | Val Loss: 0.2556 | Val Acc: 92.65% | f1: 0.93\n",
      "Epoch 46/50 | Train Loss: 0.0134 | Train Acc: 100.00% | Val Loss: 0.2634 | Val Acc: 92.93% | f1: 0.93\n",
      "Epoch 47/50 | Train Loss: 0.0128 | Train Acc: 100.00% | Val Loss: 0.2492 | Val Acc: 92.65% | f1: 0.93\n",
      "Epoch 48/50 | Train Loss: 0.0117 | Train Acc: 100.00% | Val Loss: 0.2694 | Val Acc: 92.79% | f1: 0.93\n",
      "Epoch 49/50 | Train Loss: 0.0113 | Train Acc: 100.00% | Val Loss: 0.2602 | Val Acc: 92.65% | f1: 0.93\n"
     ]
    }
   ],
   "source": [
    "patience = 15 \n",
    "best_val_loss = float('inf')\n",
    "counter = 0  \n",
    "for epoch in range(EPOCHS):\n",
    "    avg_train_loss , train_accuracy = train_model(model, train_loader, criterion, optimizer)\n",
    "    avg_val_loss, val_accuracy ,f1 = evaluate_model(model, test_loader, criterion)\n",
    "    print(f\"Epoch {epoch+1}/{EPOCHS} | \"\n",
    "              f\"Train Loss: {avg_train_loss:.4f} | Train Acc: {train_accuracy:.2f}% | \"\n",
    "              f\"Val Loss: {avg_val_loss:.4f} | Val Acc: {val_accuracy:.2f}% | f1: {f1:.2f}\")\n",
    "    \n",
    "    if avg_val_loss < best_val_loss:\n",
    "        best_val_loss = avg_val_loss\n",
    "        counter = 0 \n",
    "        best_model = model.state_dict()  \n",
    "    else:\n",
    "        counter += 1\n",
    "\n",
    "    if counter >= patience:\n",
    "        print(f\"Early stopping at epoch {epoch}. Best val loss: {best_val_loss:.4f}\")\n",
    "        break"
   ]
  },
  {
   "cell_type": "code",
   "execution_count": null,
   "metadata": {},
   "outputs": [
    {
     "data": {
      "text/plain": [
       "<All keys matched successfully>"
      ]
     },
     "execution_count": 25,
     "metadata": {},
     "output_type": "execute_result"
    }
   ],
   "source": [
    "model.load_state_dict(best_model)"
   ]
  },
  {
   "cell_type": "code",
   "execution_count": null,
   "metadata": {},
   "outputs": [
    {
     "name": "stdout",
     "output_type": "stream",
     "text": [
      "\n",
      "Final Micro F1 Score = 0.9429\n"
     ]
    }
   ],
   "source": [
    "# Final evaluation and confusion matrix\n",
    "avg_val_loss, val_accuracy, f1 = evaluate_model(model, test_loader, criterion)\n",
    "print(f\"\\nFinal Micro F1 Score = {f1:.4f}\")\n",
    "label_names = [label for label, _ in sorted(train_data.label2idx.items(), key=lambda x: x[1])]\n"
   ]
  },
  {
   "cell_type": "code",
   "execution_count": null,
   "metadata": {},
   "outputs": [],
   "source": []
  },
  {
   "cell_type": "code",
   "execution_count": null,
   "metadata": {},
   "outputs": [],
   "source": []
  }
 ],
 "metadata": {
  "kernelspec": {
   "display_name": "dla3",
   "language": "python",
   "name": "python3"
  },
  "language_info": {
   "codemirror_mode": {
    "name": "ipython",
    "version": 3
   },
   "file_extension": ".py",
   "mimetype": "text/x-python",
   "name": "python",
   "nbconvert_exporter": "python",
   "pygments_lexer": "ipython3",
   "version": "3.10.16"
  }
 },
 "nbformat": 4,
 "nbformat_minor": 2
}
