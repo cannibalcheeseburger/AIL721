{
 "cells": [
  {
   "cell_type": "code",
   "execution_count": 1,
   "metadata": {},
   "outputs": [],
   "source": [
    "import torch\n",
    "import torch.nn as nn\n",
    "import torch.nn.functional as F\n",
    "import torch.optim as optim\n",
    "import math\n",
    "from torch.utils.data import DataLoader, Dataset\n",
    "from sklearn.metrics import f1_score\n",
    "import numpy as np\n",
    "from nltk.tokenize import word_tokenize\n",
    "import nltk\n",
    "import gensim.downloader as api\n",
    "from nltk.corpus import stopwords\n",
    "import string\n",
    "import pandas as pd\n",
    "from sklearn.preprocessing import LabelEncoder"
   ]
  },
  {
   "cell_type": "code",
   "execution_count": 2,
   "metadata": {},
   "outputs": [
    {
     "name": "stderr",
     "output_type": "stream",
     "text": [
      "[nltk_data] Downloading package punkt to /Users/kash/nltk_data...\n",
      "[nltk_data]   Package punkt is already up-to-date!\n",
      "[nltk_data] Downloading package punkt_tab to /Users/kash/nltk_data...\n",
      "[nltk_data]   Package punkt_tab is already up-to-date!\n"
     ]
    },
    {
     "data": {
      "text/plain": [
       "True"
      ]
     },
     "execution_count": 2,
     "metadata": {},
     "output_type": "execute_result"
    }
   ],
   "source": [
    "nltk.download('punkt')\n",
    "nltk.download('punkt_tab')"
   ]
  },
  {
   "cell_type": "code",
   "execution_count": 3,
   "metadata": {},
   "outputs": [],
   "source": [
    "torch.manual_seed(420)\n",
    "device = torch.device(\"cuda\" if torch.cuda.is_available() else \"mps\" if torch.backends.mps.is_available() else \"cpu\")"
   ]
  },
  {
   "cell_type": "code",
   "execution_count": 4,
   "metadata": {},
   "outputs": [],
   "source": [
    "train_path =\"Datasets/TrainData.csv\"\n",
    "test_path = \"Datasets/TestLabels.csv\""
   ]
  },
  {
   "cell_type": "code",
   "execution_count": 5,
   "metadata": {},
   "outputs": [],
   "source": [
    "# Load dataset\n",
    "train_df = pd.read_csv(train_path)  # Change to actual file path\n",
    "train_texts = train_df[\"Text\"].astype(str).tolist()\n",
    "train_labels = train_df[\"Category\"].tolist()\n"
   ]
  },
  {
   "cell_type": "code",
   "execution_count": 6,
   "metadata": {},
   "outputs": [],
   "source": [
    "test_df = pd.read_csv(test_path)  # Change to actual file path\n",
    "test_texts = test_df[\"Text\"].astype(str).tolist()\n",
    "test_labels = test_df[\"Label - (business, tech, politics, sport, entertainment)\"].tolist()\n"
   ]
  },
  {
   "cell_type": "code",
   "execution_count": 7,
   "metadata": {},
   "outputs": [],
   "source": [
    "def preprocess_text(text):\n",
    "    tokenized = word_tokenize(text.lower())\n",
    "    filtered = [word for word in tokenized]\n",
    "    return filtered"
   ]
  },
  {
   "cell_type": "code",
   "execution_count": 8,
   "metadata": {},
   "outputs": [],
   "source": [
    "embedding_dim = 768  # BERT embedding size"
   ]
  },
  {
   "cell_type": "code",
   "execution_count": 9,
   "metadata": {},
   "outputs": [],
   "source": [
    "from transformers import BertTokenizer, BertModel\n",
    "\n",
    "bert_model = BertModel.from_pretrained(\"bert-base-uncased\").to(device)\n",
    "\n",
    "tokenizer = BertTokenizer.from_pretrained(\"bert-base-uncased\")\n",
    "\n"
   ]
  },
  {
   "cell_type": "code",
   "execution_count": 10,
   "metadata": {},
   "outputs": [],
   "source": [
    "max_len =512\n",
    "def get_bert_embeddings(text):\n",
    "    inputs = tokenizer(text, padding=\"max_length\", truncation=True, max_length=max_len, return_tensors=\"pt\").to(device)\n",
    "    with torch.no_grad():\n",
    "        outputs = bert_model(**inputs)\n",
    "    return outputs.last_hidden_state[:, 0, :]  # CLS token representation\n",
    "# Convert datasets\n"
   ]
  },
  {
   "cell_type": "code",
   "execution_count": 11,
   "metadata": {},
   "outputs": [],
   "source": [
    "train_encodings = torch.stack([get_bert_embeddings(text) for text in train_texts])\n",
    "test_encodings = torch.stack([get_bert_embeddings(text) for text in test_texts])"
   ]
  },
  {
   "cell_type": "markdown",
   "metadata": {},
   "source": [
    "from transformers import BertTokenizer\n",
    "embedding_dim = 768  # BERT embedding size\n",
    "\n",
    "tokenizer = BertTokenizer.from_pretrained(\"bert-base-uncased\")\n",
    "def tokenize_with_transformer(text):\n",
    "    return tokenizer(text, padding=\"max_length\", truncation=True, max_length=embedding_dim, return_tensors=\"pt\")[\"input_ids\"].squeeze(0)# Tokenize datasets\n",
    "train_encodings = tokenize_with_transformer(train_texts)\n",
    "test_encodings = tokenize_with_transformer(test_texts)\n"
   ]
  },
  {
   "cell_type": "code",
   "execution_count": 33,
   "metadata": {},
   "outputs": [],
   "source": [
    "# Encode labels\n",
    "label_encoder = LabelEncoder()\n",
    "train_labels = label_encoder.fit_transform(train_labels)\n",
    "test_labels = label_encoder.transform(test_labels)"
   ]
  },
  {
   "cell_type": "code",
   "execution_count": 34,
   "metadata": {},
   "outputs": [],
   "source": [
    "# Positional Encoding\n",
    "class PositionalEncoding(nn.Module):\n",
    "    def __init__(self, embedding_dim, max_len=max_len):\n",
    "        super(PositionalEncoding, self).__init__()\n",
    "        pe = torch.zeros(max_len, embedding_dim)\n",
    "        position = torch.arange(0, max_len, dtype=torch.float).unsqueeze(1)\n",
    "        div_term = torch.exp(torch.arange(0, embedding_dim, 2).float() * (-math.log(10000.0) / embedding_dim))\n",
    "\n",
    "        pe[:, 0::2] = torch.sin(position * div_term)\n",
    "        pe[:, 1::2] = torch.cos(position * div_term)\n",
    "        self.pe = pe.unsqueeze(0)\n",
    "\n",
    "    def forward(self, x):\n",
    "        return x + self.pe[:, :x.size(1)].to(x.device)"
   ]
  },
  {
   "cell_type": "code",
   "execution_count": 35,
   "metadata": {},
   "outputs": [],
   "source": [
    "class TransformerTextEncoder(nn.Module):\n",
    "    def __init__(self, embedding_dim, num_classes, num_heads=8, num_layers=2, dropout=0.3):\n",
    "        super(TransformerTextEncoder, self).__init__()\n",
    "\n",
    "        self.embedding_layer = nn.Linear(embedding_dim, embedding_dim)  # To fine-tune embeddings\n",
    "        self.pos_encoder = PositionalEncoding(embedding_dim)\n",
    "\n",
    "        self.transformer_encoder = nn.TransformerEncoder(\n",
    "            nn.TransformerEncoderLayer(d_model=embedding_dim, nhead=num_heads, dropout=dropout, batch_first=True),\n",
    "            num_layers=num_layers\n",
    "        )\n",
    "\n",
    "        self.fc = nn.Linear(embedding_dim, num_classes)\n",
    "        self.dropout = nn.Dropout(dropout)\n",
    "\n",
    "    def forward(self, x):\n",
    "        x = self.embedding_layer(x)  \n",
    "        x = self.pos_encoder(x.unsqueeze(1))  \n",
    "        x = self.transformer_encoder(x)  # Apply transformer\n",
    "        x = x[:, 0, :]  # Take CLS token output\n",
    "        x = self.dropout(x)\n",
    "        return self.fc(x)"
   ]
  },
  {
   "cell_type": "code",
   "execution_count": 36,
   "metadata": {},
   "outputs": [],
   "source": [
    "class TextDataset(Dataset):\n",
    "    def __init__(self, tokenized_texts, labels):\n",
    "        self.data = tokenized_texts  # Already a tensor, no need to stack\n",
    "        self.labels = torch.tensor(labels, dtype=torch.long)\n",
    "\n",
    "    def __len__(self):\n",
    "        return len(self.data)\n",
    "\n",
    "    def __getitem__(self, idx):\n",
    "        return self.data[idx], self.labels[idx]"
   ]
  },
  {
   "cell_type": "code",
   "execution_count": 61,
   "metadata": {},
   "outputs": [],
   "source": [
    "num_classes = len(label_encoder.classes_)  # Ensure correct output size\n",
    "num_heads = 8\n",
    "num_layers =6\n",
    "epochs = 15  # Reduced for testing\n",
    "learning_rate = 0.0001\n",
    "batch_size = 32"
   ]
  },
  {
   "cell_type": "code",
   "execution_count": 62,
   "metadata": {},
   "outputs": [],
   "source": [
    "train_dataset = TextDataset(train_encodings, train_labels)\n",
    "test_dataset = TextDataset(test_encodings, test_labels)"
   ]
  },
  {
   "cell_type": "code",
   "execution_count": 63,
   "metadata": {},
   "outputs": [],
   "source": [
    "from torch.utils.data import random_split\n",
    "\n",
    "train_size = int(0.8 * len(train_dataset))\n",
    "val_size = len(train_dataset) - train_size\n",
    "\n",
    "train_subset, val_subset = random_split(train_dataset, [train_size, val_size])\n"
   ]
  },
  {
   "cell_type": "code",
   "execution_count": 64,
   "metadata": {},
   "outputs": [],
   "source": [
    "train_loader = DataLoader(train_subset, batch_size=batch_size, shuffle=True)\n",
    "val_loader = DataLoader(val_subset, batch_size=batch_size, shuffle=False)\n",
    "test_loader = DataLoader(test_dataset, batch_size=batch_size, shuffle=False)"
   ]
  },
  {
   "cell_type": "code",
   "execution_count": 65,
   "metadata": {},
   "outputs": [],
   "source": [
    "model = TransformerTextEncoder(embedding_dim, num_classes, num_heads, num_layers,0.3).to(device)"
   ]
  },
  {
   "cell_type": "code",
   "execution_count": 66,
   "metadata": {},
   "outputs": [],
   "source": [
    "criterion = nn.CrossEntropyLoss()\n",
    "optimizer = optim.Adam(model.parameters(), lr=learning_rate)\n",
    "scheduler = optim.lr_scheduler.ReduceLROnPlateau(optimizer, mode='min', patience=3, factor=0.1)"
   ]
  },
  {
   "cell_type": "code",
   "execution_count": 67,
   "metadata": {},
   "outputs": [],
   "source": [
    "def evaluate(model, dataloader, criterion):\n",
    "    model.eval()\n",
    "    total_loss = 0\n",
    "    all_preds, all_labels = [], []\n",
    "\n",
    "    with torch.no_grad():\n",
    "        for batch in dataloader:\n",
    "            inputs, labels = batch  # Unpacking\n",
    "            inputs = inputs.to(device).to(torch.float32)  # Convert to float32\n",
    "            labels = labels.to(device)\n",
    "            inputs = inputs.squeeze(1)  # Remove the unnecessary dimension\n",
    "            outputs = model(inputs)             \n",
    "            loss = criterion(outputs, labels)\n",
    "            total_loss += loss.item()\n",
    "\n",
    "            preds = torch.argmax(outputs, dim=1)\n",
    "            all_preds.extend(preds.cpu().numpy())\n",
    "            all_labels.extend(labels.cpu().numpy())\n",
    "\n",
    "    avg_loss = total_loss / len(dataloader)\n",
    "    accuracy = (np.array(all_preds) == np.array(all_labels)).mean() * 100\n",
    "    micro_f1 = f1_score(all_labels, all_preds, average='micro')\n",
    "    return avg_loss, accuracy, micro_f1"
   ]
  },
  {
   "cell_type": "code",
   "execution_count": 68,
   "metadata": {},
   "outputs": [
    {
     "name": "stdout",
     "output_type": "stream",
     "text": [
      "Epoch 1/15 | Train Loss: 1.0053 | Train Acc: 59.06% | Val Loss: 0.2104 | Val Acc: 94.30% | Val micro F1: 0.94\n",
      "Epoch 2/15 | Train Loss: 0.2400 | Train Acc: 92.70% | Val Loss: 0.1197 | Val Acc: 96.98% | Val micro F1: 0.97\n",
      "Epoch 3/15 | Train Loss: 0.2064 | Train Acc: 92.37% | Val Loss: 0.2892 | Val Acc: 92.62% | Val micro F1: 0.93\n",
      "Epoch 4/15 | Train Loss: 0.1573 | Train Acc: 94.71% | Val Loss: 0.1233 | Val Acc: 96.31% | Val micro F1: 0.96\n",
      "Epoch 5/15 | Train Loss: 0.1225 | Train Acc: 95.89% | Val Loss: 0.1607 | Val Acc: 95.30% | Val micro F1: 0.95\n",
      "Epoch 6/15 | Train Loss: 0.1192 | Train Acc: 95.97% | Val Loss: 0.1043 | Val Acc: 97.32% | Val micro F1: 0.97\n",
      "Epoch 7/15 | Train Loss: 0.0897 | Train Acc: 96.90% | Val Loss: 0.1127 | Val Acc: 96.64% | Val micro F1: 0.97\n",
      "Epoch 8/15 | Train Loss: 0.0729 | Train Acc: 97.57% | Val Loss: 0.0964 | Val Acc: 97.99% | Val micro F1: 0.98\n",
      "Epoch 9/15 | Train Loss: 0.0594 | Train Acc: 98.07% | Val Loss: 0.1567 | Val Acc: 96.31% | Val micro F1: 0.96\n",
      "Epoch 10/15 | Train Loss: 0.0687 | Train Acc: 97.48% | Val Loss: 0.3458 | Val Acc: 91.61% | Val micro F1: 0.92\n",
      "Epoch 11/15 | Train Loss: 0.1117 | Train Acc: 96.31% | Val Loss: 0.1247 | Val Acc: 96.64% | Val micro F1: 0.97\n",
      "Epoch 12/15 | Train Loss: 0.0576 | Train Acc: 98.57% | Val Loss: 0.0930 | Val Acc: 96.64% | Val micro F1: 0.97\n",
      "Epoch 13/15 | Train Loss: 0.0429 | Train Acc: 98.74% | Val Loss: 0.0964 | Val Acc: 97.65% | Val micro F1: 0.98\n",
      "Epoch 14/15 | Train Loss: 0.0191 | Train Acc: 99.41% | Val Loss: 0.1183 | Val Acc: 97.32% | Val micro F1: 0.97\n",
      "Epoch 15/15 | Train Loss: 0.0257 | Train Acc: 99.33% | Val Loss: 0.1264 | Val Acc: 97.99% | Val micro F1: 0.98\n"
     ]
    }
   ],
   "source": [
    "# Training Loop\n",
    "for epoch in range(epochs):\n",
    "    model.train()\n",
    "    total_loss = 0\n",
    "    total_loss = 0\n",
    "    correct_train = 0\n",
    "    total_train = 0\n",
    "    \n",
    "    for X_batch, y_batch in train_loader:\n",
    "        X_batch, y_batch = X_batch.to(device).to(torch.float32), y_batch.to(device)\n",
    "        optimizer.zero_grad()\n",
    "        X_batch = X_batch.squeeze(1)  # Remove the unnecessary dimension\n",
    "        outputs = model(X_batch)\n",
    "        loss = criterion(outputs, y_batch)\n",
    "        loss.backward()\n",
    "        optimizer.step()\n",
    "\n",
    "        total_loss += loss.item()\n",
    "        _, predicted = torch.max(outputs, 1)\n",
    "        total_train += y_batch.size(0)\n",
    "        correct_train += (predicted == y_batch).sum().item()\n",
    "\n",
    "    avg_train_loss = total_loss / len(train_loader)\n",
    "    train_accuracy = 100 * correct_train / total_train\n",
    "\n",
    "    avg_val_loss, val_accuracy,micro_f1 = evaluate(model, val_loader, criterion)\n",
    "\n",
    "    avg_train_loss = total_loss / len(train_loader)\n",
    "    scheduler.step(avg_val_loss)\n",
    "\n",
    "    print(f\"Epoch {epoch+1}/{epochs} | \"\n",
    "            f\"Train Loss: {avg_train_loss:.4f} | Train Acc: {train_accuracy:.2f}% | \"\n",
    "            f\"Val Loss: {avg_val_loss:.4f} | Val Acc: {val_accuracy:.2f}% | Val micro F1: {micro_f1:.2f}\")\n",
    "\n",
    "\n"
   ]
  },
  {
   "cell_type": "code",
   "execution_count": 69,
   "metadata": {},
   "outputs": [
    {
     "name": "stdout",
     "output_type": "stream",
     "text": [
      "Test Loss: 0.3028 | Test Accuracy: 95.24% | Test F1: 0.9524\n"
     ]
    }
   ],
   "source": [
    "test_loss, test_accuracy, test_f1 = evaluate(model, test_loader, criterion)\n",
    "print(f\"Test Loss: {test_loss:.4f} | Test Accuracy: {test_accuracy:.2f}% | Test F1: {test_f1:.4f}\")"
   ]
  },
  {
   "cell_type": "code",
   "execution_count": null,
   "metadata": {},
   "outputs": [],
   "source": []
  },
  {
   "cell_type": "code",
   "execution_count": null,
   "metadata": {},
   "outputs": [],
   "source": []
  },
  {
   "cell_type": "code",
   "execution_count": null,
   "metadata": {},
   "outputs": [],
   "source": []
  }
 ],
 "metadata": {
  "kernelspec": {
   "display_name": "dla2",
   "language": "python",
   "name": "python3"
  },
  "language_info": {
   "codemirror_mode": {
    "name": "ipython",
    "version": 3
   },
   "file_extension": ".py",
   "mimetype": "text/x-python",
   "name": "python",
   "nbconvert_exporter": "python",
   "pygments_lexer": "ipython3",
   "version": "3.10.16"
  }
 },
 "nbformat": 4,
 "nbformat_minor": 2
}
